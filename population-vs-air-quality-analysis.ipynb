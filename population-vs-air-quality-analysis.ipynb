{
 "cells": [
  {
   "cell_type": "markdown",
   "metadata": {
    "id": "GNIwe5N7s0e_"
   },
   "source": [
    "# Real-world Data Wrangling"
   ]
  },
  {
   "cell_type": "markdown",
   "metadata": {
    "id": "_BG63Tpg8ep_"
   },
   "source": [
    "In this project, you will apply the skills you acquired in the course to gather and wrangle real-world data with two datasets of your choice.\n",
    "\n",
    "You will retrieve and extract the data, assess the data programmatically and visually, accross elements of data quality and structure, and implement a cleaning strategy for the data. You will then store the updated data into your selected database/data store, combine the data, and answer a research question with the datasets.\n",
    "\n",
    "Throughout the process, you are expected to:\n",
    "\n",
    "1. Explain your decisions towards methods used for gathering, assessing, cleaning, storing, and answering the research question\n",
    "2. Write code comments so your code is more readable\n",
    "\n",
    "Before you start, install the some of the required packages. "
   ]
  },
  {
   "cell_type": "code",
   "execution_count": 1,
   "metadata": {
    "scrolled": true
   },
   "outputs": [
    {
     "name": "stdout",
     "output_type": "stream",
     "text": [
      "Defaulting to user installation because normal site-packages is not writeable\n",
      "Requirement already satisfied: kaggle==1.6.12 in /home/student/.local/lib/python3.10/site-packages (1.6.12)\n",
      "Requirement already satisfied: tqdm in /home/student/.local/lib/python3.10/site-packages (from kaggle==1.6.12) (4.67.1)\n",
      "Requirement already satisfied: python-dateutil in /home/student/.local/lib/python3.10/site-packages (from kaggle==1.6.12) (2.9.0.post0)\n",
      "Requirement already satisfied: certifi>=2023.7.22 in /home/student/.local/lib/python3.10/site-packages (from kaggle==1.6.12) (2025.8.3)\n",
      "Requirement already satisfied: python-slugify in /home/student/.local/lib/python3.10/site-packages (from kaggle==1.6.12) (8.0.4)\n",
      "Requirement already satisfied: urllib3 in /home/student/.local/lib/python3.10/site-packages (from kaggle==1.6.12) (2.5.0)\n",
      "Requirement already satisfied: requests in /home/student/.local/lib/python3.10/site-packages (from kaggle==1.6.12) (2.32.5)\n",
      "Requirement already satisfied: six>=1.10 in /home/student/.local/lib/python3.10/site-packages (from kaggle==1.6.12) (1.17.0)\n",
      "Requirement already satisfied: bleach in /home/student/.local/lib/python3.10/site-packages (from kaggle==1.6.12) (6.2.0)\n",
      "Requirement already satisfied: webencodings in /home/student/.local/lib/python3.10/site-packages (from bleach->kaggle==1.6.12) (0.5.1)\n",
      "Requirement already satisfied: text-unidecode>=1.3 in /home/student/.local/lib/python3.10/site-packages (from python-slugify->kaggle==1.6.12) (1.3)\n",
      "Requirement already satisfied: charset_normalizer<4,>=2 in /home/student/.local/lib/python3.10/site-packages (from requests->kaggle==1.6.12) (3.4.3)\n",
      "Requirement already satisfied: idna<4,>=2.5 in /home/student/.local/lib/python3.10/site-packages (from requests->kaggle==1.6.12) (3.10)\n"
     ]
    }
   ],
   "source": [
    "!python -m pip install kaggle==1.6.12"
   ]
  },
  {
   "cell_type": "code",
   "execution_count": 2,
   "metadata": {
    "scrolled": true
   },
   "outputs": [
    {
     "name": "stdout",
     "output_type": "stream",
     "text": [
      "Collecting ucimlrepo\n",
      "  Using cached ucimlrepo-0.0.7-py3-none-any.whl (8.0 kB)\n",
      "Collecting numpy==1.24.3\n",
      "  Using cached numpy-1.24.3-cp310-cp310-manylinux_2_17_x86_64.manylinux2014_x86_64.whl (17.3 MB)\n",
      "Collecting certifi>=2020.12.5\n",
      "  Using cached certifi-2025.8.3-py3-none-any.whl (161 kB)\n",
      "Collecting pandas>=1.0.0\n",
      "  Using cached pandas-2.3.2-cp310-cp310-manylinux_2_17_x86_64.manylinux2014_x86_64.whl (12.3 MB)\n",
      "Collecting tzdata>=2022.7\n",
      "  Using cached tzdata-2025.2-py2.py3-none-any.whl (347 kB)\n",
      "Collecting python-dateutil>=2.8.2\n",
      "  Using cached python_dateutil-2.9.0.post0-py2.py3-none-any.whl (229 kB)\n",
      "Collecting pytz>=2020.1\n",
      "  Using cached pytz-2025.2-py2.py3-none-any.whl (509 kB)\n",
      "Collecting six>=1.5\n",
      "  Using cached six-1.17.0-py2.py3-none-any.whl (11 kB)\n",
      "Installing collected packages: pytz, tzdata, six, numpy, certifi, python-dateutil, pandas, ucimlrepo\n",
      "Successfully installed certifi-2025.8.3 numpy-1.24.3 pandas-2.3.2 python-dateutil-2.9.0.post0 pytz-2025.2 six-1.17.0 tzdata-2025.2 ucimlrepo-0.0.7\n",
      "\u001b[33mWARNING: Target directory /workspace/__pycache__ already exists. Specify --upgrade to force replacement.\u001b[0m\u001b[33m\n",
      "\u001b[0m\u001b[33mWARNING: Target directory /workspace/six-1.17.0.dist-info already exists. Specify --upgrade to force replacement.\u001b[0m\u001b[33m\n",
      "\u001b[0m\u001b[33mWARNING: Target directory /workspace/python_dateutil-2.9.0.post0.dist-info already exists. Specify --upgrade to force replacement.\u001b[0m\u001b[33m\n",
      "\u001b[0m\u001b[33mWARNING: Target directory /workspace/numpy already exists. Specify --upgrade to force replacement.\u001b[0m\u001b[33m\n",
      "\u001b[0m\u001b[33mWARNING: Target directory /workspace/pandas already exists. Specify --upgrade to force replacement.\u001b[0m\u001b[33m\n",
      "\u001b[0m\u001b[33mWARNING: Target directory /workspace/numpy-1.24.3.dist-info already exists. Specify --upgrade to force replacement.\u001b[0m\u001b[33m\n",
      "\u001b[0m\u001b[33mWARNING: Target directory /workspace/tzdata already exists. Specify --upgrade to force replacement.\u001b[0m\u001b[33m\n",
      "\u001b[0m\u001b[33mWARNING: Target directory /workspace/ucimlrepo already exists. Specify --upgrade to force replacement.\u001b[0m\u001b[33m\n",
      "\u001b[0m\u001b[33mWARNING: Target directory /workspace/certifi-2025.8.3.dist-info already exists. Specify --upgrade to force replacement.\u001b[0m\u001b[33m\n",
      "\u001b[0m\u001b[33mWARNING: Target directory /workspace/pytz-2025.2.dist-info already exists. Specify --upgrade to force replacement.\u001b[0m\u001b[33m\n",
      "\u001b[0m\u001b[33mWARNING: Target directory /workspace/ucimlrepo-0.0.7.dist-info already exists. Specify --upgrade to force replacement.\u001b[0m\u001b[33m\n",
      "\u001b[0m\u001b[33mWARNING: Target directory /workspace/numpy.libs already exists. Specify --upgrade to force replacement.\u001b[0m\u001b[33m\n",
      "\u001b[0m\u001b[33mWARNING: Target directory /workspace/pytz already exists. Specify --upgrade to force replacement.\u001b[0m\u001b[33m\n",
      "\u001b[0m\u001b[33mWARNING: Target directory /workspace/dateutil already exists. Specify --upgrade to force replacement.\u001b[0m\u001b[33m\n",
      "\u001b[0m\u001b[33mWARNING: Target directory /workspace/pandas-2.3.2.dist-info already exists. Specify --upgrade to force replacement.\u001b[0m\u001b[33m\n",
      "\u001b[0m\u001b[33mWARNING: Target directory /workspace/tzdata-2025.2.dist-info already exists. Specify --upgrade to force replacement.\u001b[0m\u001b[33m\n",
      "\u001b[0m\u001b[33mWARNING: Target directory /workspace/six.py already exists. Specify --upgrade to force replacement.\u001b[0m\u001b[33m\n",
      "\u001b[0m\u001b[33mWARNING: Target directory /workspace/certifi already exists. Specify --upgrade to force replacement.\u001b[0m\u001b[33m\n",
      "\u001b[0m\u001b[33mWARNING: Target directory /workspace/bin already exists. Specify --upgrade to force replacement.\u001b[0m\u001b[33m\n",
      "\u001b[0m"
     ]
    }
   ],
   "source": [
    "!pip install --target=/workspace ucimlrepo numpy==1.24.3"
   ]
  },
  {
   "cell_type": "markdown",
   "metadata": {},
   "source": [
    "**Note:** Restart the kernel to use updated package(s)."
   ]
  },
  {
   "cell_type": "markdown",
   "metadata": {
    "id": "lDYDkH-Zs7Nn"
   },
   "source": [
    "## 1. Gather data\n",
    "\n",
    "In this section, you will extract data using two different data gathering methods and combine the data. Use at least two different types of data-gathering methods."
   ]
  },
  {
   "cell_type": "markdown",
   "metadata": {
    "id": "LbN7z7rcuqpO"
   },
   "source": [
    "### **1.1.** Problem Statement\n",
    "In 2-4 sentences, explain the kind of problem you want to look at and the datasets you will be wrangling for this project."
   ]
  },
  {
   "cell_type": "markdown",
   "metadata": {
    "id": "gi6swhjSYqu2"
   },
   "source": [
    "Finding the right datasets can be time-consuming. Here we provide you with a list of websites to start with. But we encourage you to explore more websites and find the data that interests you.\n",
    "\n",
    "* Google Dataset Search https://datasetsearch.research.google.com/\n",
    "* The U.S. Government’s open data https://data.gov/\n",
    "* UCI Machine Learning Repository https://archive.ics.uci.edu/ml/index.php\n"
   ]
  },
  {
   "cell_type": "markdown",
   "metadata": {},
   "source": [
    "*For this project, I want to analyze how air pollution levels vary across different cities and whether they relate to population size. I will use the Air Quality Index (AQI) dataset from Kaggle, which provides city-level air pollution information, and I will combine it with U.S. Census population estimates that give recent population counts for incorporated places of 20,000 or more. As a test case, I will focus specifically on U.S. cities to examine these relationships. This will help explore whether more populated cities tend to have higher levels of air pollution.*"
   ]
  },
  {
   "cell_type": "markdown",
   "metadata": {
    "id": "8AQfBAdUypMm"
   },
   "source": [
    "### **1.2.** Gather at least two datasets using two different data gathering methods\n",
    "\n",
    "List of data gathering methods:\n",
    "\n",
    "- Download data manually\n",
    "- Programmatically downloading files\n",
    "- Gather data by accessing APIs\n",
    "- Gather and extract data from HTML files using BeautifulSoup\n",
    "- Extract data from a SQL database\n",
    "\n",
    "Each dataset must have at least two variables, and have greater than 500 data samples within each dataset.\n",
    "\n",
    "For each dataset, briefly describe why you picked the dataset and the gathering method (2-3 full sentences), including the names and significance of the variables in the dataset. Show your work (e.g., if using an API to download the data, please include a snippet of your code). \n",
    "\n",
    "Load the dataset programmtically into this notebook."
   ]
  },
  {
   "cell_type": "markdown",
   "metadata": {
    "id": "7e6gS0wL1KTu"
   },
   "source": [
    "#### **Dataset 1**\n",
    "\n",
    "Type: CSV File.\n",
    "\n",
    "Method: The data was gathered using the \"API\" method from Kaggle.\n",
    "\n",
    "Dataset variables:\n",
    "\n",
    "*   *Rank* : Position of the city in the pollution ranking (1 = most polluted).\n",
    "*   *City* : Name of the city and country.\n",
    "*   *2021* : Annual average AQI (Air Quality Index) for 2021.\n",
    "*   *JAN(2021), FEB(2021), …, DEC(2021)* : Monthly AQI values for 2021.\n",
    "*   *2020, 2019, 2018, 2017* : Historical annual AQI averages for each year."
   ]
  },
  {
   "cell_type": "code",
   "execution_count": 3,
   "metadata": {},
   "outputs": [
    {
     "name": "stdout",
     "output_type": "stream",
     "text": [
      "Collecting kaggle==1.6.12\n",
      "  Using cached kaggle-1.6.12-py3-none-any.whl\n",
      "Collecting python-dateutil\n",
      "  Using cached python_dateutil-2.9.0.post0-py2.py3-none-any.whl (229 kB)\n",
      "Collecting certifi>=2023.7.22\n",
      "  Using cached certifi-2025.8.3-py3-none-any.whl (161 kB)\n",
      "Collecting six>=1.10\n",
      "  Using cached six-1.17.0-py2.py3-none-any.whl (11 kB)\n",
      "Collecting bleach\n",
      "  Using cached bleach-6.2.0-py3-none-any.whl (163 kB)\n",
      "Collecting requests\n",
      "  Using cached requests-2.32.5-py3-none-any.whl (64 kB)\n",
      "Collecting tqdm\n",
      "  Using cached tqdm-4.67.1-py3-none-any.whl (78 kB)\n",
      "Collecting urllib3\n",
      "  Using cached urllib3-2.5.0-py3-none-any.whl (129 kB)\n",
      "Collecting python-slugify\n",
      "  Using cached python_slugify-8.0.4-py2.py3-none-any.whl (10 kB)\n",
      "Collecting webencodings\n",
      "  Using cached webencodings-0.5.1-py2.py3-none-any.whl (11 kB)\n",
      "Collecting text-unidecode>=1.3\n",
      "  Using cached text_unidecode-1.3-py2.py3-none-any.whl (78 kB)\n",
      "Collecting idna<4,>=2.5\n",
      "  Using cached idna-3.10-py3-none-any.whl (70 kB)\n",
      "Collecting charset_normalizer<4,>=2\n",
      "  Using cached charset_normalizer-3.4.3-cp310-cp310-manylinux2014_x86_64.manylinux_2_17_x86_64.manylinux_2_28_x86_64.whl (152 kB)\n",
      "Installing collected packages: webencodings, text-unidecode, urllib3, tqdm, six, python-slugify, idna, charset_normalizer, certifi, bleach, requests, python-dateutil, kaggle\n",
      "  Attempting uninstall: webencodings\n",
      "    Found existing installation: webencodings 0.5.1\n",
      "    Uninstalling webencodings-0.5.1:\n",
      "      Successfully uninstalled webencodings-0.5.1\n",
      "  Attempting uninstall: text-unidecode\n",
      "    Found existing installation: text-unidecode 1.3\n",
      "    Uninstalling text-unidecode-1.3:\n",
      "      Successfully uninstalled text-unidecode-1.3\n",
      "  Attempting uninstall: urllib3\n",
      "    Found existing installation: urllib3 2.5.0\n",
      "    Uninstalling urllib3-2.5.0:\n",
      "      Successfully uninstalled urllib3-2.5.0\n",
      "  Attempting uninstall: tqdm\n",
      "    Found existing installation: tqdm 4.67.1\n",
      "    Uninstalling tqdm-4.67.1:\n",
      "      Successfully uninstalled tqdm-4.67.1\n",
      "\u001b[33m  WARNING: The script tqdm is installed in '/home/student/.local/bin' which is not on PATH.\n",
      "  Consider adding this directory to PATH or, if you prefer to suppress this warning, use --no-warn-script-location.\u001b[0m\u001b[33m\n",
      "\u001b[0m  Attempting uninstall: six\n",
      "    Found existing installation: six 1.17.0\n",
      "    Uninstalling six-1.17.0:\n",
      "      Successfully uninstalled six-1.17.0\n",
      "  Attempting uninstall: python-slugify\n",
      "    Found existing installation: python-slugify 8.0.4\n",
      "    Uninstalling python-slugify-8.0.4:\n",
      "      Successfully uninstalled python-slugify-8.0.4\n",
      "\u001b[33m  WARNING: The script slugify is installed in '/home/student/.local/bin' which is not on PATH.\n",
      "  Consider adding this directory to PATH or, if you prefer to suppress this warning, use --no-warn-script-location.\u001b[0m\u001b[33m\n",
      "\u001b[0m  Attempting uninstall: idna\n",
      "    Found existing installation: idna 3.10\n",
      "    Uninstalling idna-3.10:\n",
      "      Successfully uninstalled idna-3.10\n",
      "  Attempting uninstall: charset_normalizer\n",
      "    Found existing installation: charset-normalizer 3.4.3\n",
      "    Uninstalling charset-normalizer-3.4.3:\n",
      "      Successfully uninstalled charset-normalizer-3.4.3\n",
      "\u001b[33m  WARNING: The script normalizer is installed in '/home/student/.local/bin' which is not on PATH.\n",
      "  Consider adding this directory to PATH or, if you prefer to suppress this warning, use --no-warn-script-location.\u001b[0m\u001b[33m\n",
      "\u001b[0m  Attempting uninstall: certifi\n",
      "    Found existing installation: certifi 2025.8.3\n",
      "    Uninstalling certifi-2025.8.3:\n",
      "      Successfully uninstalled certifi-2025.8.3\n",
      "  Attempting uninstall: bleach\n",
      "    Found existing installation: bleach 6.2.0\n",
      "    Uninstalling bleach-6.2.0:\n",
      "      Successfully uninstalled bleach-6.2.0\n",
      "  Attempting uninstall: requests\n",
      "    Found existing installation: requests 2.32.5\n",
      "    Uninstalling requests-2.32.5:\n",
      "      Successfully uninstalled requests-2.32.5\n",
      "  Attempting uninstall: python-dateutil\n",
      "    Found existing installation: python-dateutil 2.9.0.post0\n",
      "    Uninstalling python-dateutil-2.9.0.post0:\n",
      "      Successfully uninstalled python-dateutil-2.9.0.post0\n",
      "  Attempting uninstall: kaggle\n",
      "    Found existing installation: kaggle 1.6.12\n",
      "    Uninstalling kaggle-1.6.12:\n",
      "      Successfully uninstalled kaggle-1.6.12\n",
      "\u001b[33m  WARNING: The script kaggle is installed in '/home/student/.local/bin' which is not on PATH.\n",
      "  Consider adding this directory to PATH or, if you prefer to suppress this warning, use --no-warn-script-location.\u001b[0m\u001b[33m\n",
      "\u001b[0mSuccessfully installed bleach-6.2.0 certifi-2025.8.3 charset_normalizer-3.4.3 idna-3.10 kaggle-1.6.12 python-dateutil-2.9.0.post0 python-slugify-8.0.4 requests-2.32.5 six-1.17.0 text-unidecode-1.3 tqdm-4.67.1 urllib3-2.5.0 webencodings-0.5.1\n"
     ]
    }
   ],
   "source": [
    "# Reinstall the Kaggle package cleanly for the current user\n",
    "# Before using this, we had \"/usr/bin/sh: 1: kaggle: not found\"\n",
    "!python -m pip install --user --upgrade --force-reinstall kaggle==1.6.12"
   ]
  },
  {
   "cell_type": "code",
   "execution_count": 4,
   "metadata": {},
   "outputs": [],
   "source": [
    "#Import packages\n",
    "import os\n",
    "import zipfile\n",
    "import pandas as pd"
   ]
  },
  {
   "cell_type": "code",
   "execution_count": 5,
   "metadata": {},
   "outputs": [],
   "source": [
    "# Append the local binary path to the system PATH\n",
    "os.environ[\"PATH\"] += \":\" + os.path.expanduser(\"~/.local/bin\")"
   ]
  },
  {
   "cell_type": "code",
   "execution_count": 6,
   "metadata": {},
   "outputs": [
    {
     "name": "stdout",
     "output_type": "stream",
     "text": [
      "Warning: Looks like you're using an outdated API Version, please consider updating (server 1.7.4.2 / client 1.6.12)\n",
      "Dataset URL: https://www.kaggle.com/datasets/ramjasmaurya/most-polluted-cities-and-countries-iqair-index\n",
      "License(s): CC0-1.0\n",
      "most-polluted-cities-and-countries-iqair-index.zip: Skipping, found more recently modified local copy (use --force to force download)\n"
     ]
    }
   ],
   "source": [
    "# Download the dataset from Kaggle using its dataset ID\n",
    "!kaggle datasets download -d ramjasmaurya/most-polluted-cities-and-countries-iqair-index"
   ]
  },
  {
   "cell_type": "code",
   "execution_count": 7,
   "metadata": {
    "scrolled": true
   },
   "outputs": [],
   "source": [
    "# Ensure the ZIP file was successfully downloaded before proceeding\n",
    "assert os.path.exists(\"most-polluted-cities-and-countries-iqair-index.zip\")"
   ]
  },
  {
   "cell_type": "code",
   "execution_count": 8,
   "metadata": {},
   "outputs": [],
   "source": [
    "# Unzip the downloaded dataset into a folder named 'data'\n",
    "with zipfile.ZipFile(\"most-polluted-cities-and-countries-iqair-index.zip\", \"r\") as zip_ref:\n",
    "    zip_ref.extractall(\"data\")"
   ]
  },
  {
   "cell_type": "code",
   "execution_count": 9,
   "metadata": {
    "scrolled": true
   },
   "outputs": [],
   "source": [
    "aqi_df = pd.read_csv(\"data/AIR QUALITY INDEX (by cities) - IQAir.csv\")"
   ]
  },
  {
   "cell_type": "code",
   "execution_count": 10,
   "metadata": {},
   "outputs": [
    {
     "name": "stdout",
     "output_type": "stream",
     "text": [
      "(6475, 19)\n"
     ]
    },
    {
     "data": {
      "text/html": [
       "<div>\n",
       "<style scoped>\n",
       "    .dataframe tbody tr th:only-of-type {\n",
       "        vertical-align: middle;\n",
       "    }\n",
       "\n",
       "    .dataframe tbody tr th {\n",
       "        vertical-align: top;\n",
       "    }\n",
       "\n",
       "    .dataframe thead th {\n",
       "        text-align: right;\n",
       "    }\n",
       "</style>\n",
       "<table border=\"1\" class=\"dataframe\">\n",
       "  <thead>\n",
       "    <tr style=\"text-align: right;\">\n",
       "      <th></th>\n",
       "      <th>Rank</th>\n",
       "      <th>City</th>\n",
       "      <th>2021</th>\n",
       "      <th>JAN(2021)</th>\n",
       "      <th>FEB(2021)</th>\n",
       "      <th>MAR(2021)</th>\n",
       "      <th>APR(2021)</th>\n",
       "      <th>MAY(2021)</th>\n",
       "      <th>JUN(2021)</th>\n",
       "      <th>JUL(2021)</th>\n",
       "      <th>AUG(2021)</th>\n",
       "      <th>SEP(2021)</th>\n",
       "      <th>OCT(2021)</th>\n",
       "      <th>NOV(2021)</th>\n",
       "      <th>DEC(2021)</th>\n",
       "      <th>2020</th>\n",
       "      <th>2019</th>\n",
       "      <th>2018</th>\n",
       "      <th>2017</th>\n",
       "    </tr>\n",
       "  </thead>\n",
       "  <tbody>\n",
       "    <tr>\n",
       "      <th>0</th>\n",
       "      <td>1</td>\n",
       "      <td>Bhiwadi, India</td>\n",
       "      <td>106.2</td>\n",
       "      <td>145.8</td>\n",
       "      <td>129.8</td>\n",
       "      <td>120.2</td>\n",
       "      <td>125.7</td>\n",
       "      <td>86.5</td>\n",
       "      <td>95.9</td>\n",
       "      <td>55.6</td>\n",
       "      <td>55.4</td>\n",
       "      <td>37.1</td>\n",
       "      <td>91.1</td>\n",
       "      <td>188.6</td>\n",
       "      <td>136.6</td>\n",
       "      <td>95.5</td>\n",
       "      <td>83.4</td>\n",
       "      <td>125.4</td>\n",
       "      <td>-</td>\n",
       "    </tr>\n",
       "    <tr>\n",
       "      <th>1</th>\n",
       "      <td>2</td>\n",
       "      <td>Ghaziabad, India</td>\n",
       "      <td>102.0</td>\n",
       "      <td>199.9</td>\n",
       "      <td>172.2</td>\n",
       "      <td>97.8</td>\n",
       "      <td>86.3</td>\n",
       "      <td>52.9</td>\n",
       "      <td>47.2</td>\n",
       "      <td>35.3</td>\n",
       "      <td>37.6</td>\n",
       "      <td>30.8</td>\n",
       "      <td>89.7</td>\n",
       "      <td>218.3</td>\n",
       "      <td>163</td>\n",
       "      <td>106.6</td>\n",
       "      <td>110.2</td>\n",
       "      <td>135.2</td>\n",
       "      <td>144.6</td>\n",
       "    </tr>\n",
       "    <tr>\n",
       "      <th>2</th>\n",
       "      <td>3</td>\n",
       "      <td>Hotan, China</td>\n",
       "      <td>101.5</td>\n",
       "      <td>-</td>\n",
       "      <td>-</td>\n",
       "      <td>158</td>\n",
       "      <td>91.1</td>\n",
       "      <td>167.4</td>\n",
       "      <td>57.4</td>\n",
       "      <td>70.9</td>\n",
       "      <td>93.2</td>\n",
       "      <td>79.3</td>\n",
       "      <td>126.1</td>\n",
       "      <td>111.5</td>\n",
       "      <td>62.6</td>\n",
       "      <td>110.2</td>\n",
       "      <td>110.1</td>\n",
       "      <td>116</td>\n",
       "      <td>91.9</td>\n",
       "    </tr>\n",
       "    <tr>\n",
       "      <th>3</th>\n",
       "      <td>4</td>\n",
       "      <td>Delhi, India</td>\n",
       "      <td>96.4</td>\n",
       "      <td>183.7</td>\n",
       "      <td>142.2</td>\n",
       "      <td>80.5</td>\n",
       "      <td>72.9</td>\n",
       "      <td>47.4</td>\n",
       "      <td>47.1</td>\n",
       "      <td>35.6</td>\n",
       "      <td>36.9</td>\n",
       "      <td>30.2</td>\n",
       "      <td>73.7</td>\n",
       "      <td>224.1</td>\n",
       "      <td>186.4</td>\n",
       "      <td>84.1</td>\n",
       "      <td>98.6</td>\n",
       "      <td>113.5</td>\n",
       "      <td>108.2</td>\n",
       "    </tr>\n",
       "    <tr>\n",
       "      <th>4</th>\n",
       "      <td>5</td>\n",
       "      <td>Jaunpur, India</td>\n",
       "      <td>95.3</td>\n",
       "      <td>182.2</td>\n",
       "      <td>143.5</td>\n",
       "      <td>91</td>\n",
       "      <td>70</td>\n",
       "      <td>51.1</td>\n",
       "      <td>40.7</td>\n",
       "      <td>33.5</td>\n",
       "      <td>34.2</td>\n",
       "      <td>36.8</td>\n",
       "      <td>75.7</td>\n",
       "      <td>196</td>\n",
       "      <td>195.7</td>\n",
       "      <td>-</td>\n",
       "      <td>-</td>\n",
       "      <td>-</td>\n",
       "      <td>-</td>\n",
       "    </tr>\n",
       "  </tbody>\n",
       "</table>\n",
       "</div>"
      ],
      "text/plain": [
       "   Rank              City   2021 JAN(2021) FEB(2021) MAR(2021) APR(2021)  \\\n",
       "0     1    Bhiwadi, India  106.2     145.8     129.8     120.2     125.7   \n",
       "1     2  Ghaziabad, India  102.0     199.9     172.2      97.8      86.3   \n",
       "2     3      Hotan, China  101.5         -         -       158      91.1   \n",
       "3     4      Delhi, India   96.4     183.7     142.2      80.5      72.9   \n",
       "4     5    Jaunpur, India   95.3     182.2     143.5        91        70   \n",
       "\n",
       "  MAY(2021) JUN(2021) JUL(2021) AUG(2021) SEP(2021) OCT(2021) NOV(2021)  \\\n",
       "0      86.5      95.9      55.6      55.4      37.1      91.1     188.6   \n",
       "1      52.9      47.2      35.3      37.6      30.8      89.7     218.3   \n",
       "2     167.4      57.4      70.9      93.2      79.3     126.1     111.5   \n",
       "3      47.4      47.1      35.6      36.9      30.2      73.7     224.1   \n",
       "4      51.1      40.7      33.5      34.2      36.8      75.7       196   \n",
       "\n",
       "  DEC(2021)   2020   2019   2018   2017  \n",
       "0     136.6   95.5   83.4  125.4      -  \n",
       "1       163  106.6  110.2  135.2  144.6  \n",
       "2      62.6  110.2  110.1    116   91.9  \n",
       "3     186.4   84.1   98.6  113.5  108.2  \n",
       "4     195.7      -      -      -      -  "
      ]
     },
     "execution_count": 10,
     "metadata": {},
     "output_type": "execute_result"
    }
   ],
   "source": [
    "print(aqi_df.shape)\n",
    "aqi_df.head()"
   ]
  },
  {
   "cell_type": "markdown",
   "metadata": {
    "id": "hoUjq1tPzz7P"
   },
   "source": [
    "#### Dataset 2\n",
    "\n",
    "Type: XLSX File.\n",
    "\n",
    "Method: The data was gathered using the \"programmatically downloading\" method from US Census Bureau.\n",
    "\n",
    "Dataset variables:\n",
    "\n",
    "* *Rank* : rank of the city/place based on its population as of 2024.  \n",
    "* *Geographic Area* : name of the city and state.  \n",
    "* *April 1, 2020 Estimates Base* : base population as of April 1, 2020.  \n",
    "* *Population Estimate 2020* : estimated population as of July 1, 2020.  \n",
    "* *Population Estimate 2021* : estimated population as of July 1, 2021.  \n",
    "* *Population Estimate 2022* : estimated population as of July 1, 2022.  \n",
    "* *Population Estimate 2023* : estimated population as of July 1, 2023.  \n",
    "* *Population Estimate 2024* : estimated population as of July 1, 2024. "
   ]
  },
  {
   "cell_type": "code",
   "execution_count": 11,
   "metadata": {},
   "outputs": [],
   "source": [
    "import requests"
   ]
  },
  {
   "cell_type": "code",
   "execution_count": 12,
   "metadata": {},
   "outputs": [],
   "source": [
    "# Create a folder to store the downloaded census file if it doesn't already exist\n",
    "folder_name = \"census_population\"\n",
    "os.makedirs(folder_name, exist_ok=True)"
   ]
  },
  {
   "cell_type": "code",
   "execution_count": 13,
   "metadata": {},
   "outputs": [],
   "source": [
    "# Define the URL of the Excel file to download from the US Census Bureau\n",
    "census_url = \"https://www2.census.gov/programs-surveys/popest/tables/2020-2024/cities/totals/SUB-IP-EST2024-ANNRNK.xlsx\""
   ]
  },
  {
   "cell_type": "code",
   "execution_count": 14,
   "metadata": {},
   "outputs": [
    {
     "name": "stderr",
     "output_type": "stream",
     "text": [
      "/home/student/.local/lib/python3.10/site-packages/urllib3/connectionpool.py:1097: InsecureRequestWarning: Unverified HTTPS request is being made to host 'www2.census.gov'. Adding certificate verification is strongly advised. See: https://urllib3.readthedocs.io/en/latest/advanced-usage.html#tls-warnings\n",
      "  warnings.warn(\n"
     ]
    }
   ],
   "source": [
    "# Send a GET request to download the Excel file from the given URL\n",
    "response = requests.get(census_url, verify=False)"
   ]
  },
  {
   "cell_type": "code",
   "execution_count": 15,
   "metadata": {},
   "outputs": [],
   "source": [
    "# Raise an error if the request fails\n",
    "response.raise_for_status()"
   ]
  },
  {
   "cell_type": "code",
   "execution_count": 16,
   "metadata": {},
   "outputs": [],
   "source": [
    "# Define the path to save the downloaded file\n",
    "file_path = os.path.join(folder_name, \"SUB-IP-EST2024-ANNRNK.xlsx\")"
   ]
  },
  {
   "cell_type": "code",
   "execution_count": 17,
   "metadata": {},
   "outputs": [],
   "source": [
    "# Save the file content to the specified path\n",
    "with open(file_path, \"wb\") as f:\n",
    "    f.write(response.content)"
   ]
  },
  {
   "cell_type": "code",
   "execution_count": 18,
   "metadata": {},
   "outputs": [
    {
     "name": "stdout",
     "output_type": "stream",
     "text": [
      "Defaulting to user installation because normal site-packages is not writeable\n",
      "Requirement already satisfied: openpyxl in /home/student/.local/lib/python3.10/site-packages (3.1.5)\n",
      "Requirement already satisfied: et-xmlfile in /home/student/.local/lib/python3.10/site-packages (from openpyxl) (2.0.0)\n"
     ]
    }
   ],
   "source": [
    "# Install the openpyxl library to read .xlsx Excel files\n",
    "!python -m pip install openpyxl"
   ]
  },
  {
   "cell_type": "code",
   "execution_count": 19,
   "metadata": {},
   "outputs": [],
   "source": [
    "# Set the path of the downloaded Excel file\n",
    "census_path = \"census_population/SUB-IP-EST2024-ANNRNK.xlsx\""
   ]
  },
  {
   "cell_type": "code",
   "execution_count": 20,
   "metadata": {},
   "outputs": [],
   "source": [
    "# For unknown reasons, the openpyxl engine requires the notebook to be run twice\n",
    "# On the first run, it always fails."
   ]
  },
  {
   "cell_type": "code",
   "execution_count": 21,
   "metadata": {},
   "outputs": [],
   "source": [
    "census_df = pd.read_excel(census_path, engine=\"openpyxl\")"
   ]
  },
  {
   "cell_type": "code",
   "execution_count": 22,
   "metadata": {},
   "outputs": [
    {
     "name": "stdout",
     "output_type": "stream",
     "text": [
      "(1944, 8)\n"
     ]
    },
    {
     "data": {
      "text/html": [
       "<div>\n",
       "<style scoped>\n",
       "    .dataframe tbody tr th:only-of-type {\n",
       "        vertical-align: middle;\n",
       "    }\n",
       "\n",
       "    .dataframe tbody tr th {\n",
       "        vertical-align: top;\n",
       "    }\n",
       "\n",
       "    .dataframe thead th {\n",
       "        text-align: right;\n",
       "    }\n",
       "</style>\n",
       "<table border=\"1\" class=\"dataframe\">\n",
       "  <thead>\n",
       "    <tr style=\"text-align: right;\">\n",
       "      <th></th>\n",
       "      <th>table with row headers in column B and column headers in rows 3 through 4 (leading dots indicate sub-parts)</th>\n",
       "      <th>Unnamed: 1</th>\n",
       "      <th>Unnamed: 2</th>\n",
       "      <th>Unnamed: 3</th>\n",
       "      <th>Unnamed: 4</th>\n",
       "      <th>Unnamed: 5</th>\n",
       "      <th>Unnamed: 6</th>\n",
       "      <th>Unnamed: 7</th>\n",
       "    </tr>\n",
       "  </thead>\n",
       "  <tbody>\n",
       "    <tr>\n",
       "      <th>0</th>\n",
       "      <td>Annual Estimates of the Resident Population fo...</td>\n",
       "      <td>NaN</td>\n",
       "      <td>NaN</td>\n",
       "      <td>NaN</td>\n",
       "      <td>NaN</td>\n",
       "      <td>NaN</td>\n",
       "      <td>NaN</td>\n",
       "      <td>NaN</td>\n",
       "    </tr>\n",
       "    <tr>\n",
       "      <th>1</th>\n",
       "      <td>Rank</td>\n",
       "      <td>Geographic Area</td>\n",
       "      <td>April 1, 2020\\nEstimates Base</td>\n",
       "      <td>Population Estimate (as of July 1)</td>\n",
       "      <td>NaN</td>\n",
       "      <td>NaN</td>\n",
       "      <td>NaN</td>\n",
       "      <td>NaN</td>\n",
       "    </tr>\n",
       "    <tr>\n",
       "      <th>2</th>\n",
       "      <td>NaN</td>\n",
       "      <td>NaN</td>\n",
       "      <td>NaN</td>\n",
       "      <td>2020</td>\n",
       "      <td>2021.0</td>\n",
       "      <td>2022.0</td>\n",
       "      <td>2023.0</td>\n",
       "      <td>2024.0</td>\n",
       "    </tr>\n",
       "    <tr>\n",
       "      <th>3</th>\n",
       "      <td>1</td>\n",
       "      <td>New York city, New York</td>\n",
       "      <td>8805594</td>\n",
       "      <td>8740306</td>\n",
       "      <td>8453772.0</td>\n",
       "      <td>8356179.0</td>\n",
       "      <td>8390888.0</td>\n",
       "      <td>8478072.0</td>\n",
       "    </tr>\n",
       "    <tr>\n",
       "      <th>4</th>\n",
       "      <td>2</td>\n",
       "      <td>Los Angeles city, California</td>\n",
       "      <td>3899449</td>\n",
       "      <td>3896329</td>\n",
       "      <td>3830987.0</td>\n",
       "      <td>3832998.0</td>\n",
       "      <td>3847428.0</td>\n",
       "      <td>3878704.0</td>\n",
       "    </tr>\n",
       "  </tbody>\n",
       "</table>\n",
       "</div>"
      ],
      "text/plain": [
       "  table with row headers in column B and column headers in rows 3 through 4 (leading dots indicate sub-parts)  \\\n",
       "0  Annual Estimates of the Resident Population fo...                                                            \n",
       "1                                               Rank                                                            \n",
       "2                                                NaN                                                            \n",
       "3                                                  1                                                            \n",
       "4                                                  2                                                            \n",
       "\n",
       "                     Unnamed: 1                     Unnamed: 2  \\\n",
       "0                           NaN                            NaN   \n",
       "1               Geographic Area  April 1, 2020\\nEstimates Base   \n",
       "2                           NaN                            NaN   \n",
       "3       New York city, New York                        8805594   \n",
       "4  Los Angeles city, California                        3899449   \n",
       "\n",
       "                           Unnamed: 3  Unnamed: 4  Unnamed: 5  Unnamed: 6  \\\n",
       "0                                 NaN         NaN         NaN         NaN   \n",
       "1  Population Estimate (as of July 1)         NaN         NaN         NaN   \n",
       "2                                2020      2021.0      2022.0      2023.0   \n",
       "3                             8740306   8453772.0   8356179.0   8390888.0   \n",
       "4                             3896329   3830987.0   3832998.0   3847428.0   \n",
       "\n",
       "   Unnamed: 7  \n",
       "0         NaN  \n",
       "1         NaN  \n",
       "2      2024.0  \n",
       "3   8478072.0  \n",
       "4   3878704.0  "
      ]
     },
     "execution_count": 22,
     "metadata": {},
     "output_type": "execute_result"
    }
   ],
   "source": [
    "print(census_df.shape)\n",
    "census_df.head()"
   ]
  },
  {
   "cell_type": "markdown",
   "metadata": {
    "id": "QwSWIVmotLgV"
   },
   "source": [
    "## 2. Assess data\n",
    "\n",
    "Assess the data according to data quality and tidiness metrics using the report below.\n",
    "\n",
    "List **two** data quality issues and **two** tidiness issues. Assess each data issue visually **and** programmatically, then briefly describe the issue you find.  **Make sure you include justifications for the methods you use for the assessment.**"
   ]
  },
  {
   "cell_type": "markdown",
   "metadata": {},
   "source": [
    "### First dataframe (Air Quality Index dataframe)"
   ]
  },
  {
   "cell_type": "code",
   "execution_count": 23,
   "metadata": {},
   "outputs": [
    {
     "data": {
      "text/html": [
       "<div>\n",
       "<style scoped>\n",
       "    .dataframe tbody tr th:only-of-type {\n",
       "        vertical-align: middle;\n",
       "    }\n",
       "\n",
       "    .dataframe tbody tr th {\n",
       "        vertical-align: top;\n",
       "    }\n",
       "\n",
       "    .dataframe thead th {\n",
       "        text-align: right;\n",
       "    }\n",
       "</style>\n",
       "<table border=\"1\" class=\"dataframe\">\n",
       "  <thead>\n",
       "    <tr style=\"text-align: right;\">\n",
       "      <th></th>\n",
       "      <th>Rank</th>\n",
       "      <th>City</th>\n",
       "      <th>2021</th>\n",
       "      <th>JAN(2021)</th>\n",
       "      <th>FEB(2021)</th>\n",
       "      <th>MAR(2021)</th>\n",
       "      <th>APR(2021)</th>\n",
       "      <th>MAY(2021)</th>\n",
       "      <th>JUN(2021)</th>\n",
       "      <th>JUL(2021)</th>\n",
       "      <th>AUG(2021)</th>\n",
       "      <th>SEP(2021)</th>\n",
       "      <th>OCT(2021)</th>\n",
       "      <th>NOV(2021)</th>\n",
       "      <th>DEC(2021)</th>\n",
       "      <th>2020</th>\n",
       "      <th>2019</th>\n",
       "      <th>2018</th>\n",
       "      <th>2017</th>\n",
       "    </tr>\n",
       "  </thead>\n",
       "  <tbody>\n",
       "    <tr>\n",
       "      <th>0</th>\n",
       "      <td>1</td>\n",
       "      <td>Bhiwadi, India</td>\n",
       "      <td>106.2</td>\n",
       "      <td>145.8</td>\n",
       "      <td>129.8</td>\n",
       "      <td>120.2</td>\n",
       "      <td>125.7</td>\n",
       "      <td>86.5</td>\n",
       "      <td>95.9</td>\n",
       "      <td>55.6</td>\n",
       "      <td>55.4</td>\n",
       "      <td>37.1</td>\n",
       "      <td>91.1</td>\n",
       "      <td>188.6</td>\n",
       "      <td>136.6</td>\n",
       "      <td>95.5</td>\n",
       "      <td>83.4</td>\n",
       "      <td>125.4</td>\n",
       "      <td>-</td>\n",
       "    </tr>\n",
       "    <tr>\n",
       "      <th>1</th>\n",
       "      <td>2</td>\n",
       "      <td>Ghaziabad, India</td>\n",
       "      <td>102.0</td>\n",
       "      <td>199.9</td>\n",
       "      <td>172.2</td>\n",
       "      <td>97.8</td>\n",
       "      <td>86.3</td>\n",
       "      <td>52.9</td>\n",
       "      <td>47.2</td>\n",
       "      <td>35.3</td>\n",
       "      <td>37.6</td>\n",
       "      <td>30.8</td>\n",
       "      <td>89.7</td>\n",
       "      <td>218.3</td>\n",
       "      <td>163</td>\n",
       "      <td>106.6</td>\n",
       "      <td>110.2</td>\n",
       "      <td>135.2</td>\n",
       "      <td>144.6</td>\n",
       "    </tr>\n",
       "    <tr>\n",
       "      <th>2</th>\n",
       "      <td>3</td>\n",
       "      <td>Hotan, China</td>\n",
       "      <td>101.5</td>\n",
       "      <td>-</td>\n",
       "      <td>-</td>\n",
       "      <td>158</td>\n",
       "      <td>91.1</td>\n",
       "      <td>167.4</td>\n",
       "      <td>57.4</td>\n",
       "      <td>70.9</td>\n",
       "      <td>93.2</td>\n",
       "      <td>79.3</td>\n",
       "      <td>126.1</td>\n",
       "      <td>111.5</td>\n",
       "      <td>62.6</td>\n",
       "      <td>110.2</td>\n",
       "      <td>110.1</td>\n",
       "      <td>116</td>\n",
       "      <td>91.9</td>\n",
       "    </tr>\n",
       "    <tr>\n",
       "      <th>3</th>\n",
       "      <td>4</td>\n",
       "      <td>Delhi, India</td>\n",
       "      <td>96.4</td>\n",
       "      <td>183.7</td>\n",
       "      <td>142.2</td>\n",
       "      <td>80.5</td>\n",
       "      <td>72.9</td>\n",
       "      <td>47.4</td>\n",
       "      <td>47.1</td>\n",
       "      <td>35.6</td>\n",
       "      <td>36.9</td>\n",
       "      <td>30.2</td>\n",
       "      <td>73.7</td>\n",
       "      <td>224.1</td>\n",
       "      <td>186.4</td>\n",
       "      <td>84.1</td>\n",
       "      <td>98.6</td>\n",
       "      <td>113.5</td>\n",
       "      <td>108.2</td>\n",
       "    </tr>\n",
       "    <tr>\n",
       "      <th>4</th>\n",
       "      <td>5</td>\n",
       "      <td>Jaunpur, India</td>\n",
       "      <td>95.3</td>\n",
       "      <td>182.2</td>\n",
       "      <td>143.5</td>\n",
       "      <td>91</td>\n",
       "      <td>70</td>\n",
       "      <td>51.1</td>\n",
       "      <td>40.7</td>\n",
       "      <td>33.5</td>\n",
       "      <td>34.2</td>\n",
       "      <td>36.8</td>\n",
       "      <td>75.7</td>\n",
       "      <td>196</td>\n",
       "      <td>195.7</td>\n",
       "      <td>-</td>\n",
       "      <td>-</td>\n",
       "      <td>-</td>\n",
       "      <td>-</td>\n",
       "    </tr>\n",
       "    <tr>\n",
       "      <th>5</th>\n",
       "      <td>6</td>\n",
       "      <td>Faisalabad, Pakistan</td>\n",
       "      <td>94.2</td>\n",
       "      <td>207.1</td>\n",
       "      <td>118</td>\n",
       "      <td>71.2</td>\n",
       "      <td>44.6</td>\n",
       "      <td>51.2</td>\n",
       "      <td>44.7</td>\n",
       "      <td>50.4</td>\n",
       "      <td>50</td>\n",
       "      <td>51.9</td>\n",
       "      <td>-</td>\n",
       "      <td>234.5</td>\n",
       "      <td>241.7</td>\n",
       "      <td>73.2</td>\n",
       "      <td>104.6</td>\n",
       "      <td>130.4</td>\n",
       "      <td>-</td>\n",
       "    </tr>\n",
       "    <tr>\n",
       "      <th>6</th>\n",
       "      <td>7</td>\n",
       "      <td>Noida, India</td>\n",
       "      <td>91.4</td>\n",
       "      <td>185.3</td>\n",
       "      <td>143.4</td>\n",
       "      <td>80.5</td>\n",
       "      <td>68.2</td>\n",
       "      <td>48</td>\n",
       "      <td>43.8</td>\n",
       "      <td>33.9</td>\n",
       "      <td>35</td>\n",
       "      <td>26.5</td>\n",
       "      <td>76.9</td>\n",
       "      <td>204.4</td>\n",
       "      <td>154.8</td>\n",
       "      <td>94.3</td>\n",
       "      <td>97.7</td>\n",
       "      <td>123.6</td>\n",
       "      <td>134</td>\n",
       "    </tr>\n",
       "    <tr>\n",
       "      <th>7</th>\n",
       "      <td>8</td>\n",
       "      <td>Bahawalpur, Pakistan</td>\n",
       "      <td>91.0</td>\n",
       "      <td>173.9</td>\n",
       "      <td>145.1</td>\n",
       "      <td>77.3</td>\n",
       "      <td>51.4</td>\n",
       "      <td>45.2</td>\n",
       "      <td>54.4</td>\n",
       "      <td>42.2</td>\n",
       "      <td>43.7</td>\n",
       "      <td>38.2</td>\n",
       "      <td>67.2</td>\n",
       "      <td>197</td>\n",
       "      <td>221.2</td>\n",
       "      <td>78.7</td>\n",
       "      <td>-</td>\n",
       "      <td>-</td>\n",
       "      <td>-</td>\n",
       "    </tr>\n",
       "    <tr>\n",
       "      <th>8</th>\n",
       "      <td>9</td>\n",
       "      <td>Peshawar, Pakistan</td>\n",
       "      <td>89.6</td>\n",
       "      <td>103.9</td>\n",
       "      <td>137.2</td>\n",
       "      <td>59.6</td>\n",
       "      <td>48</td>\n",
       "      <td>49.2</td>\n",
       "      <td>68.5</td>\n",
       "      <td>54.3</td>\n",
       "      <td>55.8</td>\n",
       "      <td>60.8</td>\n",
       "      <td>77.5</td>\n",
       "      <td>182.3</td>\n",
       "      <td>176.9</td>\n",
       "      <td>-</td>\n",
       "      <td>63.9</td>\n",
       "      <td>-</td>\n",
       "      <td>-</td>\n",
       "    </tr>\n",
       "    <tr>\n",
       "      <th>9</th>\n",
       "      <td>10</td>\n",
       "      <td>Bagpat, India</td>\n",
       "      <td>89.1</td>\n",
       "      <td>146.1</td>\n",
       "      <td>106.3</td>\n",
       "      <td>88.3</td>\n",
       "      <td>87.1</td>\n",
       "      <td>65.7</td>\n",
       "      <td>53.9</td>\n",
       "      <td>32.8</td>\n",
       "      <td>31.5</td>\n",
       "      <td>24.3</td>\n",
       "      <td>84.7</td>\n",
       "      <td>213.6</td>\n",
       "      <td>128.1</td>\n",
       "      <td>-</td>\n",
       "      <td>88.6</td>\n",
       "      <td>-</td>\n",
       "      <td>-</td>\n",
       "    </tr>\n",
       "  </tbody>\n",
       "</table>\n",
       "</div>"
      ],
      "text/plain": [
       "   Rank                  City   2021 JAN(2021) FEB(2021) MAR(2021) APR(2021)  \\\n",
       "0     1        Bhiwadi, India  106.2     145.8     129.8     120.2     125.7   \n",
       "1     2      Ghaziabad, India  102.0     199.9     172.2      97.8      86.3   \n",
       "2     3          Hotan, China  101.5         -         -       158      91.1   \n",
       "3     4          Delhi, India   96.4     183.7     142.2      80.5      72.9   \n",
       "4     5        Jaunpur, India   95.3     182.2     143.5        91        70   \n",
       "5     6  Faisalabad, Pakistan   94.2     207.1       118      71.2      44.6   \n",
       "6     7          Noida, India   91.4     185.3     143.4      80.5      68.2   \n",
       "7     8  Bahawalpur, Pakistan   91.0     173.9     145.1      77.3      51.4   \n",
       "8     9    Peshawar, Pakistan   89.6     103.9     137.2      59.6        48   \n",
       "9    10         Bagpat, India   89.1     146.1     106.3      88.3      87.1   \n",
       "\n",
       "  MAY(2021) JUN(2021) JUL(2021) AUG(2021) SEP(2021) OCT(2021) NOV(2021)  \\\n",
       "0      86.5      95.9      55.6      55.4      37.1      91.1     188.6   \n",
       "1      52.9      47.2      35.3      37.6      30.8      89.7     218.3   \n",
       "2     167.4      57.4      70.9      93.2      79.3     126.1     111.5   \n",
       "3      47.4      47.1      35.6      36.9      30.2      73.7     224.1   \n",
       "4      51.1      40.7      33.5      34.2      36.8      75.7       196   \n",
       "5      51.2      44.7      50.4        50      51.9         -     234.5   \n",
       "6        48      43.8      33.9        35      26.5      76.9     204.4   \n",
       "7      45.2      54.4      42.2      43.7      38.2      67.2       197   \n",
       "8      49.2      68.5      54.3      55.8      60.8      77.5     182.3   \n",
       "9      65.7      53.9      32.8      31.5      24.3      84.7     213.6   \n",
       "\n",
       "  DEC(2021)   2020   2019   2018   2017  \n",
       "0     136.6   95.5   83.4  125.4      -  \n",
       "1       163  106.6  110.2  135.2  144.6  \n",
       "2      62.6  110.2  110.1    116   91.9  \n",
       "3     186.4   84.1   98.6  113.5  108.2  \n",
       "4     195.7      -      -      -      -  \n",
       "5     241.7   73.2  104.6  130.4      -  \n",
       "6     154.8   94.3   97.7  123.6    134  \n",
       "7     221.2   78.7      -      -      -  \n",
       "8     176.9      -   63.9      -      -  \n",
       "9     128.1      -   88.6      -      -  "
      ]
     },
     "execution_count": 23,
     "metadata": {},
     "output_type": "execute_result"
    }
   ],
   "source": [
    "aqi_df.head(10)"
   ]
  },
  {
   "cell_type": "code",
   "execution_count": 24,
   "metadata": {
    "scrolled": true
   },
   "outputs": [
    {
     "data": {
      "text/html": [
       "<div>\n",
       "<style scoped>\n",
       "    .dataframe tbody tr th:only-of-type {\n",
       "        vertical-align: middle;\n",
       "    }\n",
       "\n",
       "    .dataframe tbody tr th {\n",
       "        vertical-align: top;\n",
       "    }\n",
       "\n",
       "    .dataframe thead th {\n",
       "        text-align: right;\n",
       "    }\n",
       "</style>\n",
       "<table border=\"1\" class=\"dataframe\">\n",
       "  <thead>\n",
       "    <tr style=\"text-align: right;\">\n",
       "      <th></th>\n",
       "      <th>Rank</th>\n",
       "      <th>City</th>\n",
       "      <th>2021</th>\n",
       "      <th>JAN(2021)</th>\n",
       "      <th>FEB(2021)</th>\n",
       "      <th>MAR(2021)</th>\n",
       "      <th>APR(2021)</th>\n",
       "      <th>MAY(2021)</th>\n",
       "      <th>JUN(2021)</th>\n",
       "      <th>JUL(2021)</th>\n",
       "      <th>AUG(2021)</th>\n",
       "      <th>SEP(2021)</th>\n",
       "      <th>OCT(2021)</th>\n",
       "      <th>NOV(2021)</th>\n",
       "      <th>DEC(2021)</th>\n",
       "      <th>2020</th>\n",
       "      <th>2019</th>\n",
       "      <th>2018</th>\n",
       "      <th>2017</th>\n",
       "    </tr>\n",
       "  </thead>\n",
       "  <tbody>\n",
       "    <tr>\n",
       "      <th>6465</th>\n",
       "      <td>6466</td>\n",
       "      <td>Exeter, Australia</td>\n",
       "      <td>2.7</td>\n",
       "      <td>1.7</td>\n",
       "      <td>1.8</td>\n",
       "      <td>2.1</td>\n",
       "      <td>2.9</td>\n",
       "      <td>5</td>\n",
       "      <td>4.2</td>\n",
       "      <td>3.3</td>\n",
       "      <td>2.6</td>\n",
       "      <td>2.6</td>\n",
       "      <td>1.6</td>\n",
       "      <td>1.6</td>\n",
       "      <td>1.8</td>\n",
       "      <td>3.7</td>\n",
       "      <td>3.6</td>\n",
       "      <td>3.2</td>\n",
       "      <td>3</td>\n",
       "    </tr>\n",
       "    <tr>\n",
       "      <th>6466</th>\n",
       "      <td>6467</td>\n",
       "      <td>Salao, Portugal</td>\n",
       "      <td>2.7</td>\n",
       "      <td>2.1</td>\n",
       "      <td>3.5</td>\n",
       "      <td>2.2</td>\n",
       "      <td>2.6</td>\n",
       "      <td>2.2</td>\n",
       "      <td>2</td>\n",
       "      <td>2.8</td>\n",
       "      <td>10.3</td>\n",
       "      <td>4.5</td>\n",
       "      <td>2.8</td>\n",
       "      <td>2.7</td>\n",
       "      <td>2.7</td>\n",
       "      <td>3.6</td>\n",
       "      <td>3.8</td>\n",
       "      <td>4.3</td>\n",
       "      <td>3.4</td>\n",
       "    </tr>\n",
       "    <tr>\n",
       "      <th>6467</th>\n",
       "      <td>6468</td>\n",
       "      <td>Alcoutim, Portugal</td>\n",
       "      <td>2.7</td>\n",
       "      <td>3.9</td>\n",
       "      <td>2.9</td>\n",
       "      <td>6.1</td>\n",
       "      <td>2.7</td>\n",
       "      <td>2.4</td>\n",
       "      <td>2.8</td>\n",
       "      <td>3.4</td>\n",
       "      <td>3.3</td>\n",
       "      <td>2.3</td>\n",
       "      <td>2.2</td>\n",
       "      <td>2.2</td>\n",
       "      <td>2.2</td>\n",
       "      <td>5.7</td>\n",
       "      <td>7.7</td>\n",
       "      <td>8.5</td>\n",
       "      <td>7.9</td>\n",
       "    </tr>\n",
       "    <tr>\n",
       "      <th>6468</th>\n",
       "      <td>6469</td>\n",
       "      <td>Derby, Australia</td>\n",
       "      <td>2.6</td>\n",
       "      <td>1.8</td>\n",
       "      <td>2</td>\n",
       "      <td>2.2</td>\n",
       "      <td>3.5</td>\n",
       "      <td>3.8</td>\n",
       "      <td>3.5</td>\n",
       "      <td>3.4</td>\n",
       "      <td>2.4</td>\n",
       "      <td>2.6</td>\n",
       "      <td>1.8</td>\n",
       "      <td>1.8</td>\n",
       "      <td>1.6</td>\n",
       "      <td>3.7</td>\n",
       "      <td>3.4</td>\n",
       "      <td>3.5</td>\n",
       "      <td>3.2</td>\n",
       "    </tr>\n",
       "    <tr>\n",
       "      <th>6469</th>\n",
       "      <td>6470</td>\n",
       "      <td>Gretna, Australia</td>\n",
       "      <td>2.6</td>\n",
       "      <td>1.4</td>\n",
       "      <td>1.4</td>\n",
       "      <td>2.4</td>\n",
       "      <td>2.1</td>\n",
       "      <td>3.8</td>\n",
       "      <td>4.7</td>\n",
       "      <td>4.4</td>\n",
       "      <td>3</td>\n",
       "      <td>2.4</td>\n",
       "      <td>1.8</td>\n",
       "      <td>1.5</td>\n",
       "      <td>1.4</td>\n",
       "      <td>3.1</td>\n",
       "      <td>4.7</td>\n",
       "      <td>3.1</td>\n",
       "      <td>3.1</td>\n",
       "    </tr>\n",
       "    <tr>\n",
       "      <th>6470</th>\n",
       "      <td>6471</td>\n",
       "      <td>Mornington, Australia</td>\n",
       "      <td>2.4</td>\n",
       "      <td>2</td>\n",
       "      <td>1.9</td>\n",
       "      <td>2.3</td>\n",
       "      <td>2.1</td>\n",
       "      <td>3.2</td>\n",
       "      <td>3.6</td>\n",
       "      <td>4.3</td>\n",
       "      <td>2.1</td>\n",
       "      <td>2.1</td>\n",
       "      <td>1.7</td>\n",
       "      <td>2</td>\n",
       "      <td>1.9</td>\n",
       "      <td>3.2</td>\n",
       "      <td>3.8</td>\n",
       "      <td>3</td>\n",
       "      <td>3.9</td>\n",
       "    </tr>\n",
       "    <tr>\n",
       "      <th>6471</th>\n",
       "      <td>6472</td>\n",
       "      <td>Emu River, Australia</td>\n",
       "      <td>2.1</td>\n",
       "      <td>1.9</td>\n",
       "      <td>1.8</td>\n",
       "      <td>2</td>\n",
       "      <td>2.6</td>\n",
       "      <td>3.4</td>\n",
       "      <td>2.6</td>\n",
       "      <td>1.9</td>\n",
       "      <td>2.1</td>\n",
       "      <td>2.2</td>\n",
       "      <td>1.5</td>\n",
       "      <td>1.4</td>\n",
       "      <td>1.5</td>\n",
       "      <td>2.6</td>\n",
       "      <td>2.5</td>\n",
       "      <td>2.6</td>\n",
       "      <td>2.3</td>\n",
       "    </tr>\n",
       "    <tr>\n",
       "      <th>6472</th>\n",
       "      <td>6473</td>\n",
       "      <td>Judbury, Australia</td>\n",
       "      <td>2.0</td>\n",
       "      <td>1.6</td>\n",
       "      <td>1.5</td>\n",
       "      <td>2.1</td>\n",
       "      <td>1.5</td>\n",
       "      <td>4.1</td>\n",
       "      <td>2</td>\n",
       "      <td>2.2</td>\n",
       "      <td>2.2</td>\n",
       "      <td>1.7</td>\n",
       "      <td>1.5</td>\n",
       "      <td>1.4</td>\n",
       "      <td>1.7</td>\n",
       "      <td>2.4</td>\n",
       "      <td>5.7</td>\n",
       "      <td>2.2</td>\n",
       "      <td>1.9</td>\n",
       "    </tr>\n",
       "    <tr>\n",
       "      <th>6473</th>\n",
       "      <td>6474</td>\n",
       "      <td>St Helens, Australia</td>\n",
       "      <td>1.9</td>\n",
       "      <td>1.8</td>\n",
       "      <td>2.1</td>\n",
       "      <td>2</td>\n",
       "      <td>2.4</td>\n",
       "      <td>2.7</td>\n",
       "      <td>1.6</td>\n",
       "      <td>1.6</td>\n",
       "      <td>1.6</td>\n",
       "      <td>1.9</td>\n",
       "      <td>1.6</td>\n",
       "      <td>2.4</td>\n",
       "      <td>1.6</td>\n",
       "      <td>2.4</td>\n",
       "      <td>2.4</td>\n",
       "      <td>2.9</td>\n",
       "      <td>3.3</td>\n",
       "    </tr>\n",
       "    <tr>\n",
       "      <th>6474</th>\n",
       "      <td>6475</td>\n",
       "      <td>Chu, Kazakhstan</td>\n",
       "      <td>1.5</td>\n",
       "      <td>1.5</td>\n",
       "      <td>1.6</td>\n",
       "      <td>1.6</td>\n",
       "      <td>1.5</td>\n",
       "      <td>1.5</td>\n",
       "      <td>1.5</td>\n",
       "      <td>1.5</td>\n",
       "      <td>1.6</td>\n",
       "      <td>1.5</td>\n",
       "      <td>1.5</td>\n",
       "      <td>1.5</td>\n",
       "      <td>1.5</td>\n",
       "      <td>-</td>\n",
       "      <td>-</td>\n",
       "      <td>-</td>\n",
       "      <td>-</td>\n",
       "    </tr>\n",
       "  </tbody>\n",
       "</table>\n",
       "</div>"
      ],
      "text/plain": [
       "      Rank                   City  2021 JAN(2021) FEB(2021) MAR(2021)  \\\n",
       "6465  6466      Exeter, Australia   2.7       1.7       1.8       2.1   \n",
       "6466  6467        Salao, Portugal   2.7       2.1       3.5       2.2   \n",
       "6467  6468     Alcoutim, Portugal   2.7       3.9       2.9       6.1   \n",
       "6468  6469       Derby, Australia   2.6       1.8         2       2.2   \n",
       "6469  6470      Gretna, Australia   2.6       1.4       1.4       2.4   \n",
       "6470  6471  Mornington, Australia   2.4         2       1.9       2.3   \n",
       "6471  6472   Emu River, Australia   2.1       1.9       1.8         2   \n",
       "6472  6473     Judbury, Australia   2.0       1.6       1.5       2.1   \n",
       "6473  6474   St Helens, Australia   1.9       1.8       2.1         2   \n",
       "6474  6475        Chu, Kazakhstan   1.5       1.5       1.6       1.6   \n",
       "\n",
       "     APR(2021) MAY(2021) JUN(2021) JUL(2021) AUG(2021) SEP(2021) OCT(2021)  \\\n",
       "6465       2.9         5       4.2       3.3       2.6       2.6       1.6   \n",
       "6466       2.6       2.2         2       2.8      10.3       4.5       2.8   \n",
       "6467       2.7       2.4       2.8       3.4       3.3       2.3       2.2   \n",
       "6468       3.5       3.8       3.5       3.4       2.4       2.6       1.8   \n",
       "6469       2.1       3.8       4.7       4.4         3       2.4       1.8   \n",
       "6470       2.1       3.2       3.6       4.3       2.1       2.1       1.7   \n",
       "6471       2.6       3.4       2.6       1.9       2.1       2.2       1.5   \n",
       "6472       1.5       4.1         2       2.2       2.2       1.7       1.5   \n",
       "6473       2.4       2.7       1.6       1.6       1.6       1.9       1.6   \n",
       "6474       1.5       1.5       1.5       1.5       1.6       1.5       1.5   \n",
       "\n",
       "     NOV(2021) DEC(2021) 2020 2019 2018 2017  \n",
       "6465       1.6       1.8  3.7  3.6  3.2    3  \n",
       "6466       2.7       2.7  3.6  3.8  4.3  3.4  \n",
       "6467       2.2       2.2  5.7  7.7  8.5  7.9  \n",
       "6468       1.8       1.6  3.7  3.4  3.5  3.2  \n",
       "6469       1.5       1.4  3.1  4.7  3.1  3.1  \n",
       "6470         2       1.9  3.2  3.8    3  3.9  \n",
       "6471       1.4       1.5  2.6  2.5  2.6  2.3  \n",
       "6472       1.4       1.7  2.4  5.7  2.2  1.9  \n",
       "6473       2.4       1.6  2.4  2.4  2.9  3.3  \n",
       "6474       1.5       1.5    -    -    -    -  "
      ]
     },
     "execution_count": 24,
     "metadata": {},
     "output_type": "execute_result"
    }
   ],
   "source": [
    "aqi_df.tail(10)"
   ]
  },
  {
   "cell_type": "code",
   "execution_count": 25,
   "metadata": {},
   "outputs": [
    {
     "data": {
      "text/plain": [
       "Rank         0\n",
       "City         0\n",
       "2021         0\n",
       "JAN(2021)    0\n",
       "FEB(2021)    0\n",
       "MAR(2021)    0\n",
       "APR(2021)    0\n",
       "MAY(2021)    0\n",
       "JUN(2021)    0\n",
       "JUL(2021)    0\n",
       "AUG(2021)    0\n",
       "SEP(2021)    0\n",
       "OCT(2021)    0\n",
       "NOV(2021)    0\n",
       "DEC(2021)    0\n",
       "2020         0\n",
       "2019         0\n",
       "2018         0\n",
       "2017         0\n",
       "dtype: int64"
      ]
     },
     "execution_count": 25,
     "metadata": {},
     "output_type": "execute_result"
    }
   ],
   "source": [
    "# Count missing values across all columns\n",
    "aqi_df.isnull().sum()"
   ]
  },
  {
   "cell_type": "code",
   "execution_count": 26,
   "metadata": {
    "scrolled": true
   },
   "outputs": [
    {
     "data": {
      "text/plain": [
       "Rank            0\n",
       "City            0\n",
       "2021            0\n",
       "JAN(2021)     671\n",
       "FEB(2021)     574\n",
       "MAR(2021)     193\n",
       "APR(2021)     256\n",
       "MAY(2021)      16\n",
       "JUN(2021)      16\n",
       "JUL(2021)      22\n",
       "AUG(2021)       9\n",
       "SEP(2021)      17\n",
       "OCT(2021)      26\n",
       "NOV(2021)      43\n",
       "DEC(2021)      87\n",
       "2020         2207\n",
       "2019         2422\n",
       "2018         3999\n",
       "2017         4194\n",
       "dtype: int64"
      ]
     },
     "execution_count": 26,
     "metadata": {},
     "output_type": "execute_result"
    }
   ],
   "source": [
    "# Also check if there are dashes \"-\" instead of NaN\n",
    "(aqi_df == \"-\").sum()"
   ]
  },
  {
   "cell_type": "code",
   "execution_count": 27,
   "metadata": {
    "scrolled": true
   },
   "outputs": [
    {
     "data": {
      "text/plain": [
       "Rank           int64\n",
       "City          object\n",
       "2021         float64\n",
       "JAN(2021)     object\n",
       "FEB(2021)     object\n",
       "MAR(2021)     object\n",
       "APR(2021)     object\n",
       "MAY(2021)     object\n",
       "JUN(2021)     object\n",
       "JUL(2021)     object\n",
       "AUG(2021)     object\n",
       "SEP(2021)     object\n",
       "OCT(2021)     object\n",
       "NOV(2021)     object\n",
       "DEC(2021)     object\n",
       "2020          object\n",
       "2019          object\n",
       "2018          object\n",
       "2017          object\n",
       "dtype: object"
      ]
     },
     "execution_count": 27,
     "metadata": {},
     "output_type": "execute_result"
    }
   ],
   "source": [
    "# Check datatypes of all columns\n",
    "aqi_df.dtypes"
   ]
  },
  {
   "cell_type": "code",
   "execution_count": 28,
   "metadata": {},
   "outputs": [
    {
     "data": {
      "text/html": [
       "<div>\n",
       "<style scoped>\n",
       "    .dataframe tbody tr th:only-of-type {\n",
       "        vertical-align: middle;\n",
       "    }\n",
       "\n",
       "    .dataframe tbody tr th {\n",
       "        vertical-align: top;\n",
       "    }\n",
       "\n",
       "    .dataframe thead th {\n",
       "        text-align: right;\n",
       "    }\n",
       "</style>\n",
       "<table border=\"1\" class=\"dataframe\">\n",
       "  <thead>\n",
       "    <tr style=\"text-align: right;\">\n",
       "      <th></th>\n",
       "      <th>0</th>\n",
       "      <th>1</th>\n",
       "      <th>2</th>\n",
       "    </tr>\n",
       "  </thead>\n",
       "  <tbody>\n",
       "    <tr>\n",
       "      <th>0</th>\n",
       "      <td>Bhiwadi</td>\n",
       "      <td>India</td>\n",
       "      <td>None</td>\n",
       "    </tr>\n",
       "    <tr>\n",
       "      <th>1</th>\n",
       "      <td>Ghaziabad</td>\n",
       "      <td>India</td>\n",
       "      <td>None</td>\n",
       "    </tr>\n",
       "    <tr>\n",
       "      <th>2</th>\n",
       "      <td>Hotan</td>\n",
       "      <td>China</td>\n",
       "      <td>None</td>\n",
       "    </tr>\n",
       "    <tr>\n",
       "      <th>3</th>\n",
       "      <td>Delhi</td>\n",
       "      <td>India</td>\n",
       "      <td>None</td>\n",
       "    </tr>\n",
       "    <tr>\n",
       "      <th>4</th>\n",
       "      <td>Jaunpur</td>\n",
       "      <td>India</td>\n",
       "      <td>None</td>\n",
       "    </tr>\n",
       "  </tbody>\n",
       "</table>\n",
       "</div>"
      ],
      "text/plain": [
       "           0       1     2\n",
       "0    Bhiwadi   India  None\n",
       "1  Ghaziabad   India  None\n",
       "2      Hotan   China  None\n",
       "3      Delhi   India  None\n",
       "4    Jaunpur   India  None"
      ]
     },
     "execution_count": 28,
     "metadata": {},
     "output_type": "execute_result"
    }
   ],
   "source": [
    "# Split the \"City\" column into city and country\n",
    "aqi_df[\"City\"].str.split(\",\", expand=True).head()"
   ]
  },
  {
   "cell_type": "code",
   "execution_count": 29,
   "metadata": {},
   "outputs": [
    {
     "data": {
      "text/plain": [
       "['Rank',\n",
       " 'City',\n",
       " '2021',\n",
       " 'JAN(2021)',\n",
       " 'FEB(2021)',\n",
       " 'MAR(2021)',\n",
       " 'APR(2021)',\n",
       " 'MAY(2021)',\n",
       " 'JUN(2021)',\n",
       " 'JUL(2021)',\n",
       " 'AUG(2021)',\n",
       " 'SEP(2021)',\n",
       " 'OCT(2021)',\n",
       " 'NOV(2021)',\n",
       " 'DEC(2021)',\n",
       " '2020',\n",
       " '2019',\n",
       " '2018',\n",
       " '2017']"
      ]
     },
     "execution_count": 29,
     "metadata": {},
     "output_type": "execute_result"
    }
   ],
   "source": [
    "# Inspect column names to confirm wide format\n",
    "list(aqi_df.columns)"
   ]
  },
  {
   "cell_type": "markdown",
   "metadata": {},
   "source": [
    "### Quality Issue 1: Missing Values"
   ]
  },
  {
   "cell_type": "markdown",
   "metadata": {},
   "source": [
    "**Visual inspection**: By looking at `.head()` and `.tail()`, we notice many missing values represented as dashes (\"-\") or blanks, especially in earlier years (2017–2020).  \n",
    "\n",
    "**Programmatic inspection**: Using `aqi_df.isnull().sum()` or checking for \"-\" entries confirms missing values across multiple columns.  \n",
    "\n",
    "**Justification**: This is a completeness issue because missing data for many cities prevents reliable time-series analysis.  \n",
    "*Method justification*: Visual inspection is suitable to quickly detect obvious missing values, while programmatic checks systematically quantify them across the whole dataset."
   ]
  },
  {
   "cell_type": "markdown",
   "metadata": {},
   "source": [
    "### Quality Issue 2: Inconsistent Data Types"
   ]
  },
  {
   "cell_type": "markdown",
   "metadata": {},
   "source": [
    "**Visual inspection**: Some columns expected to be numeric (e.g., AQI scores) contain dashes \"–\" instead of numbers.  \n",
    "\n",
    "**Programmatic inspection**: Running `aqi_df.dtypes` shows that affected columns are stored as `object` instead of `float`.  \n",
    "\n",
    "**Justification**: This is a validity issue, as the presence of non-numeric placeholders breaks the integrity of numeric columns.  \n",
    "*Method justification*: Visual inspection detects unexpected symbols, while programmatic type-checking reveals misclassification of entire columns.  "
   ]
  },
  {
   "cell_type": "markdown",
   "metadata": {},
   "source": [
    "### Tidiness Issue 1: Multiple Variables in One Column"
   ]
  },
  {
   "cell_type": "markdown",
   "metadata": {},
   "source": [
    "**Visual inspection**: The column *City* stores both city and country (e.g., \"Delhi, India\").  \n",
    "\n",
    "**Programmatic inspection**: Splitting with `aqi_df[\"City\"].str.split(\",\")` shows two distinct variables.  \n",
    "\n",
    "**Justification**: This violates the tidy data rule *each variable forms a column*. City and country should be separated.  \n",
    "*Method justification*: Visual inspection highlights the pattern, while programmatic splitting confirms that two variables are consistently stored together."
   ]
  },
  {
   "cell_type": "markdown",
   "metadata": {},
   "source": [
    "### Tidiness Issue 2: Years Spread Across Columns"
   ]
  },
  {
   "cell_type": "markdown",
   "metadata": {},
   "source": [
    "**Visual inspection**: There are separate columns for 2021, JAN(2021), FEB(2021), etc.  \n",
    "\n",
    "**Programmatic inspection**: Listing the columns (`list(aqi_df.columns)`) reveals multiple time-based columns.  \n",
    "\n",
    "**Justification**: This violates the tidy data rule *each variable forms a column*. Year (and month) should be a single column, with AQI values stored separately.  \n",
    "*Method justification*: Visual inspection shows the wide format, while column listing programmatically proves that multiple year/month columns exist.  "
   ]
  },
  {
   "cell_type": "markdown",
   "metadata": {},
   "source": [
    "### Second dataframe (Census population)"
   ]
  },
  {
   "cell_type": "code",
   "execution_count": 30,
   "metadata": {
    "scrolled": false
   },
   "outputs": [
    {
     "data": {
      "text/html": [
       "<div>\n",
       "<style scoped>\n",
       "    .dataframe tbody tr th:only-of-type {\n",
       "        vertical-align: middle;\n",
       "    }\n",
       "\n",
       "    .dataframe tbody tr th {\n",
       "        vertical-align: top;\n",
       "    }\n",
       "\n",
       "    .dataframe thead th {\n",
       "        text-align: right;\n",
       "    }\n",
       "</style>\n",
       "<table border=\"1\" class=\"dataframe\">\n",
       "  <thead>\n",
       "    <tr style=\"text-align: right;\">\n",
       "      <th></th>\n",
       "      <th>table with row headers in column B and column headers in rows 3 through 4 (leading dots indicate sub-parts)</th>\n",
       "      <th>Unnamed: 1</th>\n",
       "      <th>Unnamed: 2</th>\n",
       "      <th>Unnamed: 3</th>\n",
       "      <th>Unnamed: 4</th>\n",
       "      <th>Unnamed: 5</th>\n",
       "      <th>Unnamed: 6</th>\n",
       "      <th>Unnamed: 7</th>\n",
       "    </tr>\n",
       "  </thead>\n",
       "  <tbody>\n",
       "    <tr>\n",
       "      <th>0</th>\n",
       "      <td>Annual Estimates of the Resident Population fo...</td>\n",
       "      <td>NaN</td>\n",
       "      <td>NaN</td>\n",
       "      <td>NaN</td>\n",
       "      <td>NaN</td>\n",
       "      <td>NaN</td>\n",
       "      <td>NaN</td>\n",
       "      <td>NaN</td>\n",
       "    </tr>\n",
       "    <tr>\n",
       "      <th>1</th>\n",
       "      <td>Rank</td>\n",
       "      <td>Geographic Area</td>\n",
       "      <td>April 1, 2020\\nEstimates Base</td>\n",
       "      <td>Population Estimate (as of July 1)</td>\n",
       "      <td>NaN</td>\n",
       "      <td>NaN</td>\n",
       "      <td>NaN</td>\n",
       "      <td>NaN</td>\n",
       "    </tr>\n",
       "    <tr>\n",
       "      <th>2</th>\n",
       "      <td>NaN</td>\n",
       "      <td>NaN</td>\n",
       "      <td>NaN</td>\n",
       "      <td>2020</td>\n",
       "      <td>2021.0</td>\n",
       "      <td>2022.0</td>\n",
       "      <td>2023.0</td>\n",
       "      <td>2024.0</td>\n",
       "    </tr>\n",
       "    <tr>\n",
       "      <th>3</th>\n",
       "      <td>1</td>\n",
       "      <td>New York city, New York</td>\n",
       "      <td>8805594</td>\n",
       "      <td>8740306</td>\n",
       "      <td>8453772.0</td>\n",
       "      <td>8356179.0</td>\n",
       "      <td>8390888.0</td>\n",
       "      <td>8478072.0</td>\n",
       "    </tr>\n",
       "    <tr>\n",
       "      <th>4</th>\n",
       "      <td>2</td>\n",
       "      <td>Los Angeles city, California</td>\n",
       "      <td>3899449</td>\n",
       "      <td>3896329</td>\n",
       "      <td>3830987.0</td>\n",
       "      <td>3832998.0</td>\n",
       "      <td>3847428.0</td>\n",
       "      <td>3878704.0</td>\n",
       "    </tr>\n",
       "    <tr>\n",
       "      <th>5</th>\n",
       "      <td>3</td>\n",
       "      <td>Chicago city, Illinois</td>\n",
       "      <td>2748331</td>\n",
       "      <td>2745196</td>\n",
       "      <td>2706324.0</td>\n",
       "      <td>2684076.0</td>\n",
       "      <td>2699144.0</td>\n",
       "      <td>2721308.0</td>\n",
       "    </tr>\n",
       "    <tr>\n",
       "      <th>6</th>\n",
       "      <td>4</td>\n",
       "      <td>Houston city, Texas</td>\n",
       "      <td>2300351</td>\n",
       "      <td>2298945</td>\n",
       "      <td>2291070.0</td>\n",
       "      <td>2314258.0</td>\n",
       "      <td>2346908.0</td>\n",
       "      <td>2390125.0</td>\n",
       "    </tr>\n",
       "    <tr>\n",
       "      <th>7</th>\n",
       "      <td>5</td>\n",
       "      <td>Phoenix city, Arizona</td>\n",
       "      <td>1608415</td>\n",
       "      <td>1612593</td>\n",
       "      <td>1625132.0</td>\n",
       "      <td>1644798.0</td>\n",
       "      <td>1656231.0</td>\n",
       "      <td>1673164.0</td>\n",
       "    </tr>\n",
       "    <tr>\n",
       "      <th>8</th>\n",
       "      <td>6</td>\n",
       "      <td>Philadelphia city, Pennsylvania</td>\n",
       "      <td>1603794</td>\n",
       "      <td>1600788</td>\n",
       "      <td>1589918.0</td>\n",
       "      <td>1570554.0</td>\n",
       "      <td>1563349.0</td>\n",
       "      <td>1573916.0</td>\n",
       "    </tr>\n",
       "    <tr>\n",
       "      <th>9</th>\n",
       "      <td>7</td>\n",
       "      <td>San Antonio city, Texas</td>\n",
       "      <td>1434322</td>\n",
       "      <td>1439340</td>\n",
       "      <td>1454238.0</td>\n",
       "      <td>1475931.0</td>\n",
       "      <td>1502711.0</td>\n",
       "      <td>1526656.0</td>\n",
       "    </tr>\n",
       "  </tbody>\n",
       "</table>\n",
       "</div>"
      ],
      "text/plain": [
       "  table with row headers in column B and column headers in rows 3 through 4 (leading dots indicate sub-parts)  \\\n",
       "0  Annual Estimates of the Resident Population fo...                                                            \n",
       "1                                               Rank                                                            \n",
       "2                                                NaN                                                            \n",
       "3                                                  1                                                            \n",
       "4                                                  2                                                            \n",
       "5                                                  3                                                            \n",
       "6                                                  4                                                            \n",
       "7                                                  5                                                            \n",
       "8                                                  6                                                            \n",
       "9                                                  7                                                            \n",
       "\n",
       "                        Unnamed: 1                     Unnamed: 2  \\\n",
       "0                              NaN                            NaN   \n",
       "1                  Geographic Area  April 1, 2020\\nEstimates Base   \n",
       "2                              NaN                            NaN   \n",
       "3          New York city, New York                        8805594   \n",
       "4     Los Angeles city, California                        3899449   \n",
       "5           Chicago city, Illinois                        2748331   \n",
       "6              Houston city, Texas                        2300351   \n",
       "7            Phoenix city, Arizona                        1608415   \n",
       "8  Philadelphia city, Pennsylvania                        1603794   \n",
       "9          San Antonio city, Texas                        1434322   \n",
       "\n",
       "                           Unnamed: 3  Unnamed: 4  Unnamed: 5  Unnamed: 6  \\\n",
       "0                                 NaN         NaN         NaN         NaN   \n",
       "1  Population Estimate (as of July 1)         NaN         NaN         NaN   \n",
       "2                                2020      2021.0      2022.0      2023.0   \n",
       "3                             8740306   8453772.0   8356179.0   8390888.0   \n",
       "4                             3896329   3830987.0   3832998.0   3847428.0   \n",
       "5                             2745196   2706324.0   2684076.0   2699144.0   \n",
       "6                             2298945   2291070.0   2314258.0   2346908.0   \n",
       "7                             1612593   1625132.0   1644798.0   1656231.0   \n",
       "8                             1600788   1589918.0   1570554.0   1563349.0   \n",
       "9                             1439340   1454238.0   1475931.0   1502711.0   \n",
       "\n",
       "   Unnamed: 7  \n",
       "0         NaN  \n",
       "1         NaN  \n",
       "2      2024.0  \n",
       "3   8478072.0  \n",
       "4   3878704.0  \n",
       "5   2721308.0  \n",
       "6   2390125.0  \n",
       "7   1673164.0  \n",
       "8   1573916.0  \n",
       "9   1526656.0  "
      ]
     },
     "execution_count": 30,
     "metadata": {},
     "output_type": "execute_result"
    }
   ],
   "source": [
    "census_df.head(10)"
   ]
  },
  {
   "cell_type": "code",
   "execution_count": 31,
   "metadata": {
    "scrolled": false
   },
   "outputs": [
    {
     "data": {
      "text/html": [
       "<div>\n",
       "<style scoped>\n",
       "    .dataframe tbody tr th:only-of-type {\n",
       "        vertical-align: middle;\n",
       "    }\n",
       "\n",
       "    .dataframe tbody tr th {\n",
       "        vertical-align: top;\n",
       "    }\n",
       "\n",
       "    .dataframe thead th {\n",
       "        text-align: right;\n",
       "    }\n",
       "</style>\n",
       "<table border=\"1\" class=\"dataframe\">\n",
       "  <thead>\n",
       "    <tr style=\"text-align: right;\">\n",
       "      <th></th>\n",
       "      <th>table with row headers in column B and column headers in rows 3 through 4 (leading dots indicate sub-parts)</th>\n",
       "      <th>Unnamed: 1</th>\n",
       "      <th>Unnamed: 2</th>\n",
       "      <th>Unnamed: 3</th>\n",
       "      <th>Unnamed: 4</th>\n",
       "      <th>Unnamed: 5</th>\n",
       "      <th>Unnamed: 6</th>\n",
       "      <th>Unnamed: 7</th>\n",
       "    </tr>\n",
       "  </thead>\n",
       "  <tbody>\n",
       "    <tr>\n",
       "      <th>1934</th>\n",
       "      <td>1932</td>\n",
       "      <td>Albany city, California</td>\n",
       "      <td>20270</td>\n",
       "      <td>20226</td>\n",
       "      <td>18920.0</td>\n",
       "      <td>19234.0</td>\n",
       "      <td>19243.0</td>\n",
       "      <td>19439.0</td>\n",
       "    </tr>\n",
       "    <tr>\n",
       "      <th>1935</th>\n",
       "      <td>1933</td>\n",
       "      <td>Agoura Hills city, California</td>\n",
       "      <td>20296</td>\n",
       "      <td>20230</td>\n",
       "      <td>19800.0</td>\n",
       "      <td>19606.0</td>\n",
       "      <td>19518.0</td>\n",
       "      <td>19429.0</td>\n",
       "    </tr>\n",
       "    <tr>\n",
       "      <th>1936</th>\n",
       "      <td>1933</td>\n",
       "      <td>Plainview city, Texas</td>\n",
       "      <td>20169</td>\n",
       "      <td>20125</td>\n",
       "      <td>19885.0</td>\n",
       "      <td>19614.0</td>\n",
       "      <td>19492.0</td>\n",
       "      <td>19429.0</td>\n",
       "    </tr>\n",
       "    <tr>\n",
       "      <th>1937</th>\n",
       "      <td>1935</td>\n",
       "      <td>Coronado city, California</td>\n",
       "      <td>20199</td>\n",
       "      <td>20180</td>\n",
       "      <td>19257.0</td>\n",
       "      <td>18912.0</td>\n",
       "      <td>18657.0</td>\n",
       "      <td>18031.0</td>\n",
       "    </tr>\n",
       "    <tr>\n",
       "      <th>1938</th>\n",
       "      <td>The Census Bureau has reviewed this data produ...</td>\n",
       "      <td>NaN</td>\n",
       "      <td>NaN</td>\n",
       "      <td>NaN</td>\n",
       "      <td>NaN</td>\n",
       "      <td>NaN</td>\n",
       "      <td>NaN</td>\n",
       "      <td>NaN</td>\n",
       "    </tr>\n",
       "    <tr>\n",
       "      <th>1939</th>\n",
       "      <td>Note: An incorporated place is included if it ...</td>\n",
       "      <td>NaN</td>\n",
       "      <td>NaN</td>\n",
       "      <td>NaN</td>\n",
       "      <td>NaN</td>\n",
       "      <td>NaN</td>\n",
       "      <td>NaN</td>\n",
       "      <td>NaN</td>\n",
       "    </tr>\n",
       "    <tr>\n",
       "      <th>1940</th>\n",
       "      <td>Suggested Citation:</td>\n",
       "      <td>NaN</td>\n",
       "      <td>NaN</td>\n",
       "      <td>NaN</td>\n",
       "      <td>NaN</td>\n",
       "      <td>NaN</td>\n",
       "      <td>NaN</td>\n",
       "      <td>NaN</td>\n",
       "    </tr>\n",
       "    <tr>\n",
       "      <th>1941</th>\n",
       "      <td>Annual Estimates of the Resident Population fo...</td>\n",
       "      <td>NaN</td>\n",
       "      <td>NaN</td>\n",
       "      <td>NaN</td>\n",
       "      <td>NaN</td>\n",
       "      <td>NaN</td>\n",
       "      <td>NaN</td>\n",
       "      <td>NaN</td>\n",
       "    </tr>\n",
       "    <tr>\n",
       "      <th>1942</th>\n",
       "      <td>Source: U.S. Census Bureau, Population Division</td>\n",
       "      <td>NaN</td>\n",
       "      <td>NaN</td>\n",
       "      <td>NaN</td>\n",
       "      <td>NaN</td>\n",
       "      <td>NaN</td>\n",
       "      <td>NaN</td>\n",
       "      <td>NaN</td>\n",
       "    </tr>\n",
       "    <tr>\n",
       "      <th>1943</th>\n",
       "      <td>Release Date: May 2025</td>\n",
       "      <td>NaN</td>\n",
       "      <td>NaN</td>\n",
       "      <td>NaN</td>\n",
       "      <td>NaN</td>\n",
       "      <td>NaN</td>\n",
       "      <td>NaN</td>\n",
       "      <td>NaN</td>\n",
       "    </tr>\n",
       "  </tbody>\n",
       "</table>\n",
       "</div>"
      ],
      "text/plain": [
       "     table with row headers in column B and column headers in rows 3 through 4 (leading dots indicate sub-parts)  \\\n",
       "1934                                               1932                                                            \n",
       "1935                                               1933                                                            \n",
       "1936                                               1933                                                            \n",
       "1937                                               1935                                                            \n",
       "1938  The Census Bureau has reviewed this data produ...                                                            \n",
       "1939  Note: An incorporated place is included if it ...                                                            \n",
       "1940                                Suggested Citation:                                                            \n",
       "1941  Annual Estimates of the Resident Population fo...                                                            \n",
       "1942    Source: U.S. Census Bureau, Population Division                                                            \n",
       "1943                             Release Date: May 2025                                                            \n",
       "\n",
       "                         Unnamed: 1 Unnamed: 2 Unnamed: 3  Unnamed: 4  \\\n",
       "1934        Albany city, California      20270      20226     18920.0   \n",
       "1935  Agoura Hills city, California      20296      20230     19800.0   \n",
       "1936          Plainview city, Texas      20169      20125     19885.0   \n",
       "1937      Coronado city, California      20199      20180     19257.0   \n",
       "1938                            NaN        NaN        NaN         NaN   \n",
       "1939                            NaN        NaN        NaN         NaN   \n",
       "1940                            NaN        NaN        NaN         NaN   \n",
       "1941                            NaN        NaN        NaN         NaN   \n",
       "1942                            NaN        NaN        NaN         NaN   \n",
       "1943                            NaN        NaN        NaN         NaN   \n",
       "\n",
       "      Unnamed: 5  Unnamed: 6  Unnamed: 7  \n",
       "1934     19234.0     19243.0     19439.0  \n",
       "1935     19606.0     19518.0     19429.0  \n",
       "1936     19614.0     19492.0     19429.0  \n",
       "1937     18912.0     18657.0     18031.0  \n",
       "1938         NaN         NaN         NaN  \n",
       "1939         NaN         NaN         NaN  \n",
       "1940         NaN         NaN         NaN  \n",
       "1941         NaN         NaN         NaN  \n",
       "1942         NaN         NaN         NaN  \n",
       "1943         NaN         NaN         NaN  "
      ]
     },
     "execution_count": 31,
     "metadata": {},
     "output_type": "execute_result"
    }
   ],
   "source": [
    "census_df.tail(10)"
   ]
  },
  {
   "cell_type": "code",
   "execution_count": 32,
   "metadata": {},
   "outputs": [
    {
     "data": {
      "text/html": [
       "<div>\n",
       "<style scoped>\n",
       "    .dataframe tbody tr th:only-of-type {\n",
       "        vertical-align: middle;\n",
       "    }\n",
       "\n",
       "    .dataframe tbody tr th {\n",
       "        vertical-align: top;\n",
       "    }\n",
       "\n",
       "    .dataframe thead th {\n",
       "        text-align: right;\n",
       "    }\n",
       "</style>\n",
       "<table border=\"1\" class=\"dataframe\">\n",
       "  <thead>\n",
       "    <tr style=\"text-align: right;\">\n",
       "      <th></th>\n",
       "      <th>table with row headers in column B and column headers in rows 3 through 4 (leading dots indicate sub-parts)</th>\n",
       "      <th>Unnamed: 1</th>\n",
       "      <th>Unnamed: 2</th>\n",
       "      <th>Unnamed: 3</th>\n",
       "      <th>Unnamed: 4</th>\n",
       "      <th>Unnamed: 5</th>\n",
       "      <th>Unnamed: 6</th>\n",
       "      <th>Unnamed: 7</th>\n",
       "    </tr>\n",
       "  </thead>\n",
       "  <tbody>\n",
       "    <tr>\n",
       "      <th>0</th>\n",
       "      <td>Annual Estimates of the Resident Population fo...</td>\n",
       "      <td>NaN</td>\n",
       "      <td>NaN</td>\n",
       "      <td>NaN</td>\n",
       "      <td>NaN</td>\n",
       "      <td>NaN</td>\n",
       "      <td>NaN</td>\n",
       "      <td>NaN</td>\n",
       "    </tr>\n",
       "    <tr>\n",
       "      <th>1</th>\n",
       "      <td>Rank</td>\n",
       "      <td>Geographic Area</td>\n",
       "      <td>April 1, 2020\\nEstimates Base</td>\n",
       "      <td>Population Estimate (as of July 1)</td>\n",
       "      <td>NaN</td>\n",
       "      <td>NaN</td>\n",
       "      <td>NaN</td>\n",
       "      <td>NaN</td>\n",
       "    </tr>\n",
       "    <tr>\n",
       "      <th>2</th>\n",
       "      <td>NaN</td>\n",
       "      <td>NaN</td>\n",
       "      <td>NaN</td>\n",
       "      <td>2020</td>\n",
       "      <td>2021.0</td>\n",
       "      <td>2022.0</td>\n",
       "      <td>2023.0</td>\n",
       "      <td>2024.0</td>\n",
       "    </tr>\n",
       "  </tbody>\n",
       "</table>\n",
       "</div>"
      ],
      "text/plain": [
       "  table with row headers in column B and column headers in rows 3 through 4 (leading dots indicate sub-parts)  \\\n",
       "0  Annual Estimates of the Resident Population fo...                                                            \n",
       "1                                               Rank                                                            \n",
       "2                                                NaN                                                            \n",
       "\n",
       "        Unnamed: 1                     Unnamed: 2  \\\n",
       "0              NaN                            NaN   \n",
       "1  Geographic Area  April 1, 2020\\nEstimates Base   \n",
       "2              NaN                            NaN   \n",
       "\n",
       "                           Unnamed: 3  Unnamed: 4  Unnamed: 5  Unnamed: 6  \\\n",
       "0                                 NaN         NaN         NaN         NaN   \n",
       "1  Population Estimate (as of July 1)         NaN         NaN         NaN   \n",
       "2                                2020      2021.0      2022.0      2023.0   \n",
       "\n",
       "   Unnamed: 7  \n",
       "0         NaN  \n",
       "1         NaN  \n",
       "2      2024.0  "
      ]
     },
     "execution_count": 32,
     "metadata": {},
     "output_type": "execute_result"
    }
   ],
   "source": [
    "# Inspect non-data top rows\n",
    "census_df.iloc[0:3]"
   ]
  },
  {
   "cell_type": "code",
   "execution_count": 33,
   "metadata": {
    "scrolled": true
   },
   "outputs": [
    {
     "data": {
      "text/html": [
       "<div>\n",
       "<style scoped>\n",
       "    .dataframe tbody tr th:only-of-type {\n",
       "        vertical-align: middle;\n",
       "    }\n",
       "\n",
       "    .dataframe tbody tr th {\n",
       "        vertical-align: top;\n",
       "    }\n",
       "\n",
       "    .dataframe thead th {\n",
       "        text-align: right;\n",
       "    }\n",
       "</style>\n",
       "<table border=\"1\" class=\"dataframe\">\n",
       "  <thead>\n",
       "    <tr style=\"text-align: right;\">\n",
       "      <th></th>\n",
       "      <th>table with row headers in column B and column headers in rows 3 through 4 (leading dots indicate sub-parts)</th>\n",
       "      <th>Unnamed: 1</th>\n",
       "      <th>Unnamed: 2</th>\n",
       "      <th>Unnamed: 3</th>\n",
       "      <th>Unnamed: 4</th>\n",
       "      <th>Unnamed: 5</th>\n",
       "      <th>Unnamed: 6</th>\n",
       "      <th>Unnamed: 7</th>\n",
       "    </tr>\n",
       "  </thead>\n",
       "  <tbody>\n",
       "    <tr>\n",
       "      <th>1938</th>\n",
       "      <td>The Census Bureau has reviewed this data produ...</td>\n",
       "      <td>NaN</td>\n",
       "      <td>NaN</td>\n",
       "      <td>NaN</td>\n",
       "      <td>NaN</td>\n",
       "      <td>NaN</td>\n",
       "      <td>NaN</td>\n",
       "      <td>NaN</td>\n",
       "    </tr>\n",
       "    <tr>\n",
       "      <th>1939</th>\n",
       "      <td>Note: An incorporated place is included if it ...</td>\n",
       "      <td>NaN</td>\n",
       "      <td>NaN</td>\n",
       "      <td>NaN</td>\n",
       "      <td>NaN</td>\n",
       "      <td>NaN</td>\n",
       "      <td>NaN</td>\n",
       "      <td>NaN</td>\n",
       "    </tr>\n",
       "    <tr>\n",
       "      <th>1940</th>\n",
       "      <td>Suggested Citation:</td>\n",
       "      <td>NaN</td>\n",
       "      <td>NaN</td>\n",
       "      <td>NaN</td>\n",
       "      <td>NaN</td>\n",
       "      <td>NaN</td>\n",
       "      <td>NaN</td>\n",
       "      <td>NaN</td>\n",
       "    </tr>\n",
       "    <tr>\n",
       "      <th>1941</th>\n",
       "      <td>Annual Estimates of the Resident Population fo...</td>\n",
       "      <td>NaN</td>\n",
       "      <td>NaN</td>\n",
       "      <td>NaN</td>\n",
       "      <td>NaN</td>\n",
       "      <td>NaN</td>\n",
       "      <td>NaN</td>\n",
       "      <td>NaN</td>\n",
       "    </tr>\n",
       "  </tbody>\n",
       "</table>\n",
       "</div>"
      ],
      "text/plain": [
       "     table with row headers in column B and column headers in rows 3 through 4 (leading dots indicate sub-parts)  \\\n",
       "1938  The Census Bureau has reviewed this data produ...                                                            \n",
       "1939  Note: An incorporated place is included if it ...                                                            \n",
       "1940                                Suggested Citation:                                                            \n",
       "1941  Annual Estimates of the Resident Population fo...                                                            \n",
       "\n",
       "     Unnamed: 1 Unnamed: 2 Unnamed: 3  Unnamed: 4  Unnamed: 5  Unnamed: 6  \\\n",
       "1938        NaN        NaN        NaN         NaN         NaN         NaN   \n",
       "1939        NaN        NaN        NaN         NaN         NaN         NaN   \n",
       "1940        NaN        NaN        NaN         NaN         NaN         NaN   \n",
       "1941        NaN        NaN        NaN         NaN         NaN         NaN   \n",
       "\n",
       "      Unnamed: 7  \n",
       "1938         NaN  \n",
       "1939         NaN  \n",
       "1940         NaN  \n",
       "1941         NaN  "
      ]
     },
     "execution_count": 33,
     "metadata": {},
     "output_type": "execute_result"
    }
   ],
   "source": [
    "# Inspect non-data bottom rows\n",
    "census_df.iloc[1938:1942]"
   ]
  },
  {
   "cell_type": "code",
   "execution_count": 34,
   "metadata": {},
   "outputs": [
    {
     "data": {
      "text/plain": [
       "table with row headers in column B and column headers in rows 3 through 4 (leading dots indicate sub-parts)    1\n",
       "Unnamed: 1                                                                                                     8\n",
       "Unnamed: 2                                                                                                     8\n",
       "Unnamed: 3                                                                                                     7\n",
       "Unnamed: 4                                                                                                     8\n",
       "Unnamed: 5                                                                                                     8\n",
       "Unnamed: 6                                                                                                     8\n",
       "Unnamed: 7                                                                                                     8\n",
       "dtype: int64"
      ]
     },
     "execution_count": 34,
     "metadata": {},
     "output_type": "execute_result"
    }
   ],
   "source": [
    "# Count missing values across all columns\n",
    "census_df.isnull().sum()"
   ]
  },
  {
   "cell_type": "code",
   "execution_count": 35,
   "metadata": {
    "scrolled": true
   },
   "outputs": [
    {
     "data": {
      "text/plain": [
       "table with row headers in column B and column headers in rows 3 through 4 (leading dots indicate sub-parts)     object\n",
       "Unnamed: 1                                                                                                      object\n",
       "Unnamed: 2                                                                                                      object\n",
       "Unnamed: 3                                                                                                      object\n",
       "Unnamed: 4                                                                                                     float64\n",
       "Unnamed: 5                                                                                                     float64\n",
       "Unnamed: 6                                                                                                     float64\n",
       "Unnamed: 7                                                                                                     float64\n",
       "dtype: object"
      ]
     },
     "execution_count": 35,
     "metadata": {},
     "output_type": "execute_result"
    }
   ],
   "source": [
    "# Check column dtypes\n",
    "census_df.dtypes"
   ]
  },
  {
   "cell_type": "code",
   "execution_count": 36,
   "metadata": {},
   "outputs": [
    {
     "data": {
      "text/plain": [
       "['table with row headers in column B and column headers in rows 3 through 4 (leading dots indicate sub-parts)',\n",
       " 'Unnamed: 1',\n",
       " 'Unnamed: 2',\n",
       " 'Unnamed: 3',\n",
       " 'Unnamed: 4',\n",
       " 'Unnamed: 5',\n",
       " 'Unnamed: 6',\n",
       " 'Unnamed: 7']"
      ]
     },
     "execution_count": 36,
     "metadata": {},
     "output_type": "execute_result"
    }
   ],
   "source": [
    "# Inspect all column names for year columns\n",
    "list(census_df.columns)"
   ]
  },
  {
   "cell_type": "code",
   "execution_count": 37,
   "metadata": {
    "scrolled": true
   },
   "outputs": [
    {
     "data": {
      "text/plain": [
       "0                                NaN\n",
       "1                  [Geographic Area]\n",
       "2                                NaN\n",
       "3         [New York city,  New York]\n",
       "4    [Los Angeles city,  California]\n",
       "5          [Chicago city,  Illinois]\n",
       "6             [Houston city,  Texas]\n",
       "7           [Phoenix city,  Arizona]\n",
       "Name: Unnamed: 1, dtype: object"
      ]
     },
     "execution_count": 37,
     "metadata": {},
     "output_type": "execute_result"
    }
   ],
   "source": [
    "# Split the values in the \"Unnamed: 1\" column by comma into separate components\n",
    "census_df[\"Unnamed: 1\"].str.split(\",\").head(8)"
   ]
  },
  {
   "cell_type": "markdown",
   "metadata": {},
   "source": [
    "### Quality Issue 1: Invalid Rows and Column Misalignment"
   ]
  },
  {
   "cell_type": "markdown",
   "metadata": {},
   "source": [
    "**Visual inspection**: The header, and rows like “table with row headers in column B and column headers in rows 3 through 4 (leading dots indicate sub-parts)”, “The Census Bureau has reviewed this data product” and “Suggested Citation” appear as if they were data. The real headers are appearing as a data row.  \n",
    "\n",
    "**Programmatic inspection**: Checking rows with `census_df.iloc[0:3]` and `census_df.iloc[1938:1942]` shows these non-data rows. \n",
    "\n",
    "**Justification**: This is a validity issue. Descriptive notes should not be in the dataset.  \n",
    "*Method justification*: Visual inspection detects obviously wrong rows, while indexing programmatically confirms that these rows exist in the dataframe structure."
   ]
  },
  {
   "cell_type": "markdown",
   "metadata": {
    "id": "adaK2iPNzVu4"
   },
   "source": [
    "### Quality Issue 2: Missing Values in Critical Columns"
   ]
  },
  {
   "cell_type": "markdown",
   "metadata": {
    "id": "SpW59kh-zl8d"
   },
   "source": [
    "**Visual inspection**: Several rows are completely filled with NaN. However, by finding total number of NaNs, we deduce that they belong exclusively to the non-data rows.\n",
    "\n",
    "**Programmatic inspection**: `census_df.isnull().sum()` highlights missing data.  \n",
    "\n",
    "**Justification**: At first glance, this may look like a completeness issue, since several rows are entirely filled with NaN. However, by checking the total number of NaNs, we see that they belong exclusively to the non-data rows, and therefore are related to the previous validity issue.\n",
    "\n",
    "*Method justification*: Visual inspection detects empty-looking rows, while null-counting quantifies the extent of missingness across columns.  "
   ]
  },
  {
   "cell_type": "markdown",
   "metadata": {
    "id": "lXhGiYyiwwKN"
   },
   "source": [
    "### Tidiness Issue 1: Multiple Variables in One Column"
   ]
  },
  {
   "cell_type": "markdown",
   "metadata": {
    "id": "fleC5rORI0Xl"
   },
   "source": [
    "**Visual inspection**: The *Geographic Area* column contains city and state in the same string (e.g., \"New York city, New York\").  \n",
    "\n",
    "**Programmatic inspection**: Splitting `census_df[\"Unnamed:1\"].str.split(\",\").head(8)` reveals two variables. In reality, `census_df[\"Geographic Area\"].str.split(\",\")` should be used, but for now, we didn't proceed to data cleaning yet, so we use the raw data column name.   \n",
    "\n",
    "**Justification**: Violates the tidy data rule *each variable forms a column*. City and state must be separated.  \n",
    "*Method justification*: Visual inspection highlights the redundancy, while programmatic splitting proves it can be separated into two meaningful variables. "
   ]
  },
  {
   "cell_type": "markdown",
   "metadata": {
    "id": "4ffMoRGSwzYj"
   },
   "source": [
    "### Tidiness Issue 2: Years Spread Across Columns"
   ]
  },
  {
   "cell_type": "markdown",
   "metadata": {},
   "source": [
    "**Visual inspection**: Population estimates for 2020–2024 appear as multiple separate columns.  \n",
    "\n",
    "**Programmatic inspection**: `list(census_df.columns)` shows these columns (2020, 2021, 2022, etc.).  \n",
    "\n",
    "**Justification**: Violates the tidy data rule *each variable forms a column*. The dataset should be reshaped to have a single *Year* column and a *Population* column.  \n",
    "*Method justification*: Visual inspection makes the wide format obvious, while checking column names programmatically confirms the structure.  "
   ]
  },
  {
   "cell_type": "markdown",
   "metadata": {
    "id": "D6gmLnBttpCh"
   },
   "source": [
    "## 3. Clean data\n",
    "Clean the data to solve the 4 issues corresponding to data quality and tidiness found in the assessing step. **Make sure you include justifications for your cleaning decisions.**\n",
    "\n",
    "After the cleaning for each issue, please use **either** the visually or programatical method to validate the cleaning was succesful.\n",
    "\n",
    "At this stage, you are also expected to remove variables that are unnecessary for your analysis and combine your datasets. Depending on your datasets, you may choose to perform variable combination and elimination before or after the cleaning stage. Your dataset must have **at least** 4 variables after combining the data."
   ]
  },
  {
   "cell_type": "code",
   "execution_count": 38,
   "metadata": {},
   "outputs": [],
   "source": [
    "# Copies of the datasets to ensure the raw dataframes \n",
    "aqi_df_copy = aqi_df\n",
    "census_df_copy = census_df"
   ]
  },
  {
   "cell_type": "markdown",
   "metadata": {},
   "source": [
    "### First dataframe (Air Quality Index dataframe)"
   ]
  },
  {
   "cell_type": "markdown",
   "metadata": {
    "id": "FmFhN52Yyn3l"
   },
   "source": [
    "### Quality Issue 1: Missing Values"
   ]
  },
  {
   "cell_type": "code",
   "execution_count": 39,
   "metadata": {},
   "outputs": [],
   "source": [
    "import numpy as np\n",
    "import re"
   ]
  },
  {
   "cell_type": "code",
   "execution_count": 40,
   "metadata": {
    "id": "9UejDWrNMW4a"
   },
   "outputs": [],
   "source": [
    "# Replace \"-\" with NaN\n",
    "aqi_df.replace(\"-\", np.nan, inplace=True)"
   ]
  },
  {
   "cell_type": "code",
   "execution_count": 41,
   "metadata": {},
   "outputs": [],
   "source": [
    "# Collect all 2021 columns (e.g., '2021', 'JAN(2021)', 'FEB(2021)', …)\n",
    "cols_2021 = [c for c in aqi_df.columns if \"2021\" in str(c)]"
   ]
  },
  {
   "cell_type": "code",
   "execution_count": 42,
   "metadata": {},
   "outputs": [],
   "source": [
    "# Drop 2017–2020 columns (mostly empty)\n",
    "cols_2017_2020 = [c for c in aqi_df.columns if any(y in str(c) for y in [\"2017\",\"2018\",\"2019\",\"2020\"])]\n",
    "aqi_df.drop(columns=cols_2017_2020, inplace=True, errors=\"ignore\")"
   ]
  },
  {
   "cell_type": "code",
   "execution_count": 43,
   "metadata": {},
   "outputs": [],
   "source": [
    "# Drop any row that has at least one NaN in the 2021 columns\n",
    "aqi_df = aqi_df.dropna(subset=cols_2021, how=\"any\")"
   ]
  },
  {
   "cell_type": "code",
   "execution_count": 44,
   "metadata": {
    "scrolled": true
   },
   "outputs": [
    {
     "data": {
      "text/plain": [
       "Rank         0\n",
       "City         0\n",
       "2021         0\n",
       "JAN(2021)    0\n",
       "FEB(2021)    0\n",
       "MAR(2021)    0\n",
       "APR(2021)    0\n",
       "MAY(2021)    0\n",
       "JUN(2021)    0\n",
       "JUL(2021)    0\n",
       "AUG(2021)    0\n",
       "SEP(2021)    0\n",
       "OCT(2021)    0\n",
       "NOV(2021)    0\n",
       "DEC(2021)    0\n",
       "dtype: int64"
      ]
     },
     "execution_count": 44,
     "metadata": {},
     "output_type": "execute_result"
    }
   ],
   "source": [
    "# Validate that the NaN columns are gone\n",
    "aqi_df.isnull().sum()"
   ]
  },
  {
   "cell_type": "code",
   "execution_count": 45,
   "metadata": {
    "scrolled": true
   },
   "outputs": [
    {
     "data": {
      "text/html": [
       "<div>\n",
       "<style scoped>\n",
       "    .dataframe tbody tr th:only-of-type {\n",
       "        vertical-align: middle;\n",
       "    }\n",
       "\n",
       "    .dataframe tbody tr th {\n",
       "        vertical-align: top;\n",
       "    }\n",
       "\n",
       "    .dataframe thead th {\n",
       "        text-align: right;\n",
       "    }\n",
       "</style>\n",
       "<table border=\"1\" class=\"dataframe\">\n",
       "  <thead>\n",
       "    <tr style=\"text-align: right;\">\n",
       "      <th></th>\n",
       "      <th>Rank</th>\n",
       "      <th>City</th>\n",
       "      <th>2021</th>\n",
       "      <th>JAN(2021)</th>\n",
       "      <th>FEB(2021)</th>\n",
       "      <th>MAR(2021)</th>\n",
       "      <th>APR(2021)</th>\n",
       "      <th>MAY(2021)</th>\n",
       "      <th>JUN(2021)</th>\n",
       "      <th>JUL(2021)</th>\n",
       "      <th>AUG(2021)</th>\n",
       "      <th>SEP(2021)</th>\n",
       "      <th>OCT(2021)</th>\n",
       "      <th>NOV(2021)</th>\n",
       "      <th>DEC(2021)</th>\n",
       "    </tr>\n",
       "  </thead>\n",
       "  <tbody>\n",
       "    <tr>\n",
       "      <th>0</th>\n",
       "      <td>1</td>\n",
       "      <td>Bhiwadi, India</td>\n",
       "      <td>106.2</td>\n",
       "      <td>145.8</td>\n",
       "      <td>129.8</td>\n",
       "      <td>120.2</td>\n",
       "      <td>125.7</td>\n",
       "      <td>86.5</td>\n",
       "      <td>95.9</td>\n",
       "      <td>55.6</td>\n",
       "      <td>55.4</td>\n",
       "      <td>37.1</td>\n",
       "      <td>91.1</td>\n",
       "      <td>188.6</td>\n",
       "      <td>136.6</td>\n",
       "    </tr>\n",
       "    <tr>\n",
       "      <th>1</th>\n",
       "      <td>2</td>\n",
       "      <td>Ghaziabad, India</td>\n",
       "      <td>102.0</td>\n",
       "      <td>199.9</td>\n",
       "      <td>172.2</td>\n",
       "      <td>97.8</td>\n",
       "      <td>86.3</td>\n",
       "      <td>52.9</td>\n",
       "      <td>47.2</td>\n",
       "      <td>35.3</td>\n",
       "      <td>37.6</td>\n",
       "      <td>30.8</td>\n",
       "      <td>89.7</td>\n",
       "      <td>218.3</td>\n",
       "      <td>163</td>\n",
       "    </tr>\n",
       "    <tr>\n",
       "      <th>3</th>\n",
       "      <td>4</td>\n",
       "      <td>Delhi, India</td>\n",
       "      <td>96.4</td>\n",
       "      <td>183.7</td>\n",
       "      <td>142.2</td>\n",
       "      <td>80.5</td>\n",
       "      <td>72.9</td>\n",
       "      <td>47.4</td>\n",
       "      <td>47.1</td>\n",
       "      <td>35.6</td>\n",
       "      <td>36.9</td>\n",
       "      <td>30.2</td>\n",
       "      <td>73.7</td>\n",
       "      <td>224.1</td>\n",
       "      <td>186.4</td>\n",
       "    </tr>\n",
       "    <tr>\n",
       "      <th>4</th>\n",
       "      <td>5</td>\n",
       "      <td>Jaunpur, India</td>\n",
       "      <td>95.3</td>\n",
       "      <td>182.2</td>\n",
       "      <td>143.5</td>\n",
       "      <td>91</td>\n",
       "      <td>70</td>\n",
       "      <td>51.1</td>\n",
       "      <td>40.7</td>\n",
       "      <td>33.5</td>\n",
       "      <td>34.2</td>\n",
       "      <td>36.8</td>\n",
       "      <td>75.7</td>\n",
       "      <td>196</td>\n",
       "      <td>195.7</td>\n",
       "    </tr>\n",
       "    <tr>\n",
       "      <th>6</th>\n",
       "      <td>7</td>\n",
       "      <td>Noida, India</td>\n",
       "      <td>91.4</td>\n",
       "      <td>185.3</td>\n",
       "      <td>143.4</td>\n",
       "      <td>80.5</td>\n",
       "      <td>68.2</td>\n",
       "      <td>48</td>\n",
       "      <td>43.8</td>\n",
       "      <td>33.9</td>\n",
       "      <td>35</td>\n",
       "      <td>26.5</td>\n",
       "      <td>76.9</td>\n",
       "      <td>204.4</td>\n",
       "      <td>154.8</td>\n",
       "    </tr>\n",
       "  </tbody>\n",
       "</table>\n",
       "</div>"
      ],
      "text/plain": [
       "   Rank              City   2021 JAN(2021) FEB(2021) MAR(2021) APR(2021)  \\\n",
       "0     1    Bhiwadi, India  106.2     145.8     129.8     120.2     125.7   \n",
       "1     2  Ghaziabad, India  102.0     199.9     172.2      97.8      86.3   \n",
       "3     4      Delhi, India   96.4     183.7     142.2      80.5      72.9   \n",
       "4     5    Jaunpur, India   95.3     182.2     143.5        91        70   \n",
       "6     7      Noida, India   91.4     185.3     143.4      80.5      68.2   \n",
       "\n",
       "  MAY(2021) JUN(2021) JUL(2021) AUG(2021) SEP(2021) OCT(2021) NOV(2021)  \\\n",
       "0      86.5      95.9      55.6      55.4      37.1      91.1     188.6   \n",
       "1      52.9      47.2      35.3      37.6      30.8      89.7     218.3   \n",
       "3      47.4      47.1      35.6      36.9      30.2      73.7     224.1   \n",
       "4      51.1      40.7      33.5      34.2      36.8      75.7       196   \n",
       "6        48      43.8      33.9        35      26.5      76.9     204.4   \n",
       "\n",
       "  DEC(2021)  \n",
       "0     136.6  \n",
       "1       163  \n",
       "3     186.4  \n",
       "4     195.7  \n",
       "6     154.8  "
      ]
     },
     "execution_count": 45,
     "metadata": {},
     "output_type": "execute_result"
    }
   ],
   "source": [
    "aqi_df.head()"
   ]
  },
  {
   "cell_type": "markdown",
   "metadata": {},
   "source": [
    "**Justification**: We focus on 2021 because earlier years (2017–2020) are largely missing and introduce noise.\n",
    "\n",
    "We remove 2017–2020 columns due to pervasive missingness.\n",
    "\n",
    "We drop rows with any 2021 NaN to ensure a complete, comparable monthly series for the year, avoiding arbitrary imputations."
   ]
  },
  {
   "cell_type": "markdown",
   "metadata": {
    "id": "n_DAUbJrymBL"
   },
   "source": [
    "### **Quality Issue 2: Inconsistent Data Types**"
   ]
  },
  {
   "cell_type": "code",
   "execution_count": 46,
   "metadata": {},
   "outputs": [
    {
     "name": "stderr",
     "output_type": "stream",
     "text": [
      "/tmp/ipykernel_116/4011618936.py:3: SettingWithCopyWarning: \n",
      "A value is trying to be set on a copy of a slice from a DataFrame.\n",
      "Try using .loc[row_indexer,col_indexer] = value instead\n",
      "\n",
      "See the caveats in the documentation: https://pandas.pydata.org/pandas-docs/stable/user_guide/indexing.html#returning-a-view-versus-a-copy\n",
      "  aqi_df[num_cols] = aqi_df[num_cols].apply(pd.to_numeric, errors=\"coerce\")\n"
     ]
    }
   ],
   "source": [
    "# Force numeric on the remaining measurement columns\n",
    "num_cols = [c for c in aqi_df.columns if c not in [\"Rank\",\"City\",\"City_Name\",\"Country\"]]\n",
    "aqi_df[num_cols] = aqi_df[num_cols].apply(pd.to_numeric, errors=\"coerce\")"
   ]
  },
  {
   "cell_type": "code",
   "execution_count": 47,
   "metadata": {
    "id": "ionB2sRaMUmY"
   },
   "outputs": [
    {
     "data": {
      "text/plain": [
       "Rank           int64\n",
       "City          object\n",
       "2021         float64\n",
       "JAN(2021)    float64\n",
       "FEB(2021)    float64\n",
       "MAR(2021)    float64\n",
       "APR(2021)    float64\n",
       "MAY(2021)    float64\n",
       "JUN(2021)    float64\n",
       "JUL(2021)    float64\n",
       "AUG(2021)    float64\n",
       "SEP(2021)    float64\n",
       "OCT(2021)    float64\n",
       "NOV(2021)    float64\n",
       "DEC(2021)    float64\n",
       "dtype: object"
      ]
     },
     "execution_count": 47,
     "metadata": {},
     "output_type": "execute_result"
    }
   ],
   "source": [
    "# Validate the datatypes\n",
    "aqi_df.dtypes"
   ]
  },
  {
   "cell_type": "markdown",
   "metadata": {},
   "source": [
    "**Justification**: Converting AQI columns into floats ensures correct numerical operations and statistical analysis."
   ]
  },
  {
   "cell_type": "markdown",
   "metadata": {
    "id": "bIUrrfSNyOPR"
   },
   "source": [
    "### **Tidiness Issue 1: FILL IN**"
   ]
  },
  {
   "cell_type": "code",
   "execution_count": 48,
   "metadata": {
    "id": "XUpeoqokw5Qt"
   },
   "outputs": [
    {
     "name": "stderr",
     "output_type": "stream",
     "text": [
      "/tmp/ipykernel_116/3865618479.py:2: SettingWithCopyWarning: \n",
      "A value is trying to be set on a copy of a slice from a DataFrame.\n",
      "Try using .loc[row_indexer,col_indexer] = value instead\n",
      "\n",
      "See the caveats in the documentation: https://pandas.pydata.org/pandas-docs/stable/user_guide/indexing.html#returning-a-view-versus-a-copy\n",
      "  aqi_df[[\"City_Name\", \"Country\"]] = aqi_df[\"City\"].str.split(\",\", n=1, expand=True)\n",
      "/tmp/ipykernel_116/3865618479.py:2: SettingWithCopyWarning: \n",
      "A value is trying to be set on a copy of a slice from a DataFrame.\n",
      "Try using .loc[row_indexer,col_indexer] = value instead\n",
      "\n",
      "See the caveats in the documentation: https://pandas.pydata.org/pandas-docs/stable/user_guide/indexing.html#returning-a-view-versus-a-copy\n",
      "  aqi_df[[\"City_Name\", \"Country\"]] = aqi_df[\"City\"].str.split(\",\", n=1, expand=True)\n",
      "/tmp/ipykernel_116/3865618479.py:3: SettingWithCopyWarning: \n",
      "A value is trying to be set on a copy of a slice from a DataFrame.\n",
      "Try using .loc[row_indexer,col_indexer] = value instead\n",
      "\n",
      "See the caveats in the documentation: https://pandas.pydata.org/pandas-docs/stable/user_guide/indexing.html#returning-a-view-versus-a-copy\n",
      "  aqi_df[\"City_Name\"] = aqi_df[\"City_Name\"].str.strip()\n",
      "/tmp/ipykernel_116/3865618479.py:4: SettingWithCopyWarning: \n",
      "A value is trying to be set on a copy of a slice from a DataFrame.\n",
      "Try using .loc[row_indexer,col_indexer] = value instead\n",
      "\n",
      "See the caveats in the documentation: https://pandas.pydata.org/pandas-docs/stable/user_guide/indexing.html#returning-a-view-versus-a-copy\n",
      "  aqi_df[\"Country\"] = aqi_df[\"Country\"].str.strip()\n"
     ]
    }
   ],
   "source": [
    "# Separating the two variables and creating two separate columns\n",
    "aqi_df[[\"City_Name\", \"Country\"]] = aqi_df[\"City\"].str.split(\",\", n=1, expand=True)\n",
    "aqi_df[\"City_Name\"] = aqi_df[\"City_Name\"].str.strip()\n",
    "aqi_df[\"Country\"] = aqi_df[\"Country\"].str.strip()"
   ]
  },
  {
   "cell_type": "code",
   "execution_count": 49,
   "metadata": {
    "id": "fib0zAm333bn"
   },
   "outputs": [
    {
     "data": {
      "text/html": [
       "<div>\n",
       "<style scoped>\n",
       "    .dataframe tbody tr th:only-of-type {\n",
       "        vertical-align: middle;\n",
       "    }\n",
       "\n",
       "    .dataframe tbody tr th {\n",
       "        vertical-align: top;\n",
       "    }\n",
       "\n",
       "    .dataframe thead th {\n",
       "        text-align: right;\n",
       "    }\n",
       "</style>\n",
       "<table border=\"1\" class=\"dataframe\">\n",
       "  <thead>\n",
       "    <tr style=\"text-align: right;\">\n",
       "      <th></th>\n",
       "      <th>City</th>\n",
       "      <th>City_Name</th>\n",
       "      <th>Country</th>\n",
       "    </tr>\n",
       "  </thead>\n",
       "  <tbody>\n",
       "    <tr>\n",
       "      <th>0</th>\n",
       "      <td>Bhiwadi, India</td>\n",
       "      <td>Bhiwadi</td>\n",
       "      <td>India</td>\n",
       "    </tr>\n",
       "    <tr>\n",
       "      <th>1</th>\n",
       "      <td>Ghaziabad, India</td>\n",
       "      <td>Ghaziabad</td>\n",
       "      <td>India</td>\n",
       "    </tr>\n",
       "    <tr>\n",
       "      <th>3</th>\n",
       "      <td>Delhi, India</td>\n",
       "      <td>Delhi</td>\n",
       "      <td>India</td>\n",
       "    </tr>\n",
       "    <tr>\n",
       "      <th>4</th>\n",
       "      <td>Jaunpur, India</td>\n",
       "      <td>Jaunpur</td>\n",
       "      <td>India</td>\n",
       "    </tr>\n",
       "    <tr>\n",
       "      <th>6</th>\n",
       "      <td>Noida, India</td>\n",
       "      <td>Noida</td>\n",
       "      <td>India</td>\n",
       "    </tr>\n",
       "  </tbody>\n",
       "</table>\n",
       "</div>"
      ],
      "text/plain": [
       "               City  City_Name Country\n",
       "0    Bhiwadi, India    Bhiwadi   India\n",
       "1  Ghaziabad, India  Ghaziabad   India\n",
       "3      Delhi, India      Delhi   India\n",
       "4    Jaunpur, India    Jaunpur   India\n",
       "6      Noida, India      Noida   India"
      ]
     },
     "execution_count": 49,
     "metadata": {},
     "output_type": "execute_result"
    }
   ],
   "source": [
    "# Validate\n",
    "aqi_df[[\"City\", \"City_Name\", \"Country\"]].head()"
   ]
  },
  {
   "cell_type": "markdown",
   "metadata": {},
   "source": [
    "**Justification**: Separating city and country improves clarity and supports future filtering (e.g., keeping only USA cities)."
   ]
  },
  {
   "cell_type": "markdown",
   "metadata": {
    "id": "o51Bt8kwyTzk"
   },
   "source": [
    "### **Tidiness Issue 2: FILL IN**"
   ]
  },
  {
   "cell_type": "code",
   "execution_count": 50,
   "metadata": {
    "id": "7zW8O5yx4Y9O"
   },
   "outputs": [],
   "source": [
    "# Apply the cleaning strategy\n",
    "aqi_df = aqi_df.melt(id_vars=[\"Rank\", \"City\", \"City_Name\", \"Country\"],\n",
    "                         var_name=\"Time\",\n",
    "                         value_name=\"AQI\")"
   ]
  },
  {
   "cell_type": "code",
   "execution_count": 51,
   "metadata": {
    "id": "q6I_Sr7lxXi5",
    "scrolled": true
   },
   "outputs": [
    {
     "data": {
      "text/html": [
       "<div>\n",
       "<style scoped>\n",
       "    .dataframe tbody tr th:only-of-type {\n",
       "        vertical-align: middle;\n",
       "    }\n",
       "\n",
       "    .dataframe tbody tr th {\n",
       "        vertical-align: top;\n",
       "    }\n",
       "\n",
       "    .dataframe thead th {\n",
       "        text-align: right;\n",
       "    }\n",
       "</style>\n",
       "<table border=\"1\" class=\"dataframe\">\n",
       "  <thead>\n",
       "    <tr style=\"text-align: right;\">\n",
       "      <th></th>\n",
       "      <th>Rank</th>\n",
       "      <th>City</th>\n",
       "      <th>City_Name</th>\n",
       "      <th>Country</th>\n",
       "      <th>Time</th>\n",
       "      <th>AQI</th>\n",
       "    </tr>\n",
       "  </thead>\n",
       "  <tbody>\n",
       "    <tr>\n",
       "      <th>0</th>\n",
       "      <td>1</td>\n",
       "      <td>Bhiwadi, India</td>\n",
       "      <td>Bhiwadi</td>\n",
       "      <td>India</td>\n",
       "      <td>2021</td>\n",
       "      <td>106.2</td>\n",
       "    </tr>\n",
       "    <tr>\n",
       "      <th>1</th>\n",
       "      <td>2</td>\n",
       "      <td>Ghaziabad, India</td>\n",
       "      <td>Ghaziabad</td>\n",
       "      <td>India</td>\n",
       "      <td>2021</td>\n",
       "      <td>102.0</td>\n",
       "    </tr>\n",
       "    <tr>\n",
       "      <th>2</th>\n",
       "      <td>4</td>\n",
       "      <td>Delhi, India</td>\n",
       "      <td>Delhi</td>\n",
       "      <td>India</td>\n",
       "      <td>2021</td>\n",
       "      <td>96.4</td>\n",
       "    </tr>\n",
       "    <tr>\n",
       "      <th>3</th>\n",
       "      <td>5</td>\n",
       "      <td>Jaunpur, India</td>\n",
       "      <td>Jaunpur</td>\n",
       "      <td>India</td>\n",
       "      <td>2021</td>\n",
       "      <td>95.3</td>\n",
       "    </tr>\n",
       "    <tr>\n",
       "      <th>4</th>\n",
       "      <td>7</td>\n",
       "      <td>Noida, India</td>\n",
       "      <td>Noida</td>\n",
       "      <td>India</td>\n",
       "      <td>2021</td>\n",
       "      <td>91.4</td>\n",
       "    </tr>\n",
       "  </tbody>\n",
       "</table>\n",
       "</div>"
      ],
      "text/plain": [
       "   Rank              City  City_Name Country  Time    AQI\n",
       "0     1    Bhiwadi, India    Bhiwadi   India  2021  106.2\n",
       "1     2  Ghaziabad, India  Ghaziabad   India  2021  102.0\n",
       "2     4      Delhi, India      Delhi   India  2021   96.4\n",
       "3     5    Jaunpur, India    Jaunpur   India  2021   95.3\n",
       "4     7      Noida, India      Noida   India  2021   91.4"
      ]
     },
     "execution_count": 51,
     "metadata": {},
     "output_type": "execute_result"
    }
   ],
   "source": [
    "# Validate\n",
    "aqi_df.head()"
   ]
  },
  {
   "cell_type": "code",
   "execution_count": 52,
   "metadata": {},
   "outputs": [
    {
     "data": {
      "text/html": [
       "<div>\n",
       "<style scoped>\n",
       "    .dataframe tbody tr th:only-of-type {\n",
       "        vertical-align: middle;\n",
       "    }\n",
       "\n",
       "    .dataframe tbody tr th {\n",
       "        vertical-align: top;\n",
       "    }\n",
       "\n",
       "    .dataframe thead th {\n",
       "        text-align: right;\n",
       "    }\n",
       "</style>\n",
       "<table border=\"1\" class=\"dataframe\">\n",
       "  <thead>\n",
       "    <tr style=\"text-align: right;\">\n",
       "      <th></th>\n",
       "      <th>Rank</th>\n",
       "      <th>City</th>\n",
       "      <th>City_Name</th>\n",
       "      <th>Country</th>\n",
       "      <th>Time</th>\n",
       "      <th>AQI</th>\n",
       "    </tr>\n",
       "  </thead>\n",
       "  <tbody>\n",
       "    <tr>\n",
       "      <th>70221</th>\n",
       "      <td>6471</td>\n",
       "      <td>Mornington, Australia</td>\n",
       "      <td>Mornington</td>\n",
       "      <td>Australia</td>\n",
       "      <td>DEC(2021)</td>\n",
       "      <td>1.9</td>\n",
       "    </tr>\n",
       "    <tr>\n",
       "      <th>70222</th>\n",
       "      <td>6472</td>\n",
       "      <td>Emu River, Australia</td>\n",
       "      <td>Emu River</td>\n",
       "      <td>Australia</td>\n",
       "      <td>DEC(2021)</td>\n",
       "      <td>1.5</td>\n",
       "    </tr>\n",
       "    <tr>\n",
       "      <th>70223</th>\n",
       "      <td>6473</td>\n",
       "      <td>Judbury, Australia</td>\n",
       "      <td>Judbury</td>\n",
       "      <td>Australia</td>\n",
       "      <td>DEC(2021)</td>\n",
       "      <td>1.7</td>\n",
       "    </tr>\n",
       "    <tr>\n",
       "      <th>70224</th>\n",
       "      <td>6474</td>\n",
       "      <td>St Helens, Australia</td>\n",
       "      <td>St Helens</td>\n",
       "      <td>Australia</td>\n",
       "      <td>DEC(2021)</td>\n",
       "      <td>1.6</td>\n",
       "    </tr>\n",
       "    <tr>\n",
       "      <th>70225</th>\n",
       "      <td>6475</td>\n",
       "      <td>Chu, Kazakhstan</td>\n",
       "      <td>Chu</td>\n",
       "      <td>Kazakhstan</td>\n",
       "      <td>DEC(2021)</td>\n",
       "      <td>1.5</td>\n",
       "    </tr>\n",
       "  </tbody>\n",
       "</table>\n",
       "</div>"
      ],
      "text/plain": [
       "       Rank                   City   City_Name     Country       Time  AQI\n",
       "70221  6471  Mornington, Australia  Mornington   Australia  DEC(2021)  1.9\n",
       "70222  6472   Emu River, Australia   Emu River   Australia  DEC(2021)  1.5\n",
       "70223  6473     Judbury, Australia     Judbury   Australia  DEC(2021)  1.7\n",
       "70224  6474   St Helens, Australia   St Helens   Australia  DEC(2021)  1.6\n",
       "70225  6475        Chu, Kazakhstan         Chu  Kazakhstan  DEC(2021)  1.5"
      ]
     },
     "execution_count": 52,
     "metadata": {},
     "output_type": "execute_result"
    }
   ],
   "source": [
    "aqi_df.tail()"
   ]
  },
  {
   "cell_type": "markdown",
   "metadata": {},
   "source": [
    "**Justification**: Reshaping from wide to long format makes the dataset tidy: each observation is one row with Year. But since we dropped other years, this won't be a problem anymore."
   ]
  },
  {
   "cell_type": "markdown",
   "metadata": {},
   "source": [
    "**In addition**:\n",
    "\n",
    "Since Census data is yearly, keeping only the annual AQI 2021 ensures both datasets are on the same temporal scale.\n",
    "\n",
    "Dropping monthly entries avoids inconsistency when merging or analyzing."
   ]
  },
  {
   "cell_type": "code",
   "execution_count": 53,
   "metadata": {},
   "outputs": [],
   "source": [
    "# Keep only rows where Time column is exactly \"2021\"\n",
    "aqi_df = aqi_df[aqi_df[\"Time\"] == \"2021\"].copy()"
   ]
  },
  {
   "cell_type": "code",
   "execution_count": 54,
   "metadata": {},
   "outputs": [],
   "source": [
    "# Reset index\n",
    "aqi_df.reset_index(drop=True, inplace=True)"
   ]
  },
  {
   "cell_type": "code",
   "execution_count": 55,
   "metadata": {},
   "outputs": [
    {
     "data": {
      "text/html": [
       "<div>\n",
       "<style scoped>\n",
       "    .dataframe tbody tr th:only-of-type {\n",
       "        vertical-align: middle;\n",
       "    }\n",
       "\n",
       "    .dataframe tbody tr th {\n",
       "        vertical-align: top;\n",
       "    }\n",
       "\n",
       "    .dataframe thead th {\n",
       "        text-align: right;\n",
       "    }\n",
       "</style>\n",
       "<table border=\"1\" class=\"dataframe\">\n",
       "  <thead>\n",
       "    <tr style=\"text-align: right;\">\n",
       "      <th></th>\n",
       "      <th>Rank</th>\n",
       "      <th>City</th>\n",
       "      <th>City_Name</th>\n",
       "      <th>Country</th>\n",
       "      <th>Time</th>\n",
       "      <th>AQI</th>\n",
       "    </tr>\n",
       "  </thead>\n",
       "  <tbody>\n",
       "    <tr>\n",
       "      <th>5397</th>\n",
       "      <td>6471</td>\n",
       "      <td>Mornington, Australia</td>\n",
       "      <td>Mornington</td>\n",
       "      <td>Australia</td>\n",
       "      <td>2021</td>\n",
       "      <td>2.4</td>\n",
       "    </tr>\n",
       "    <tr>\n",
       "      <th>5398</th>\n",
       "      <td>6472</td>\n",
       "      <td>Emu River, Australia</td>\n",
       "      <td>Emu River</td>\n",
       "      <td>Australia</td>\n",
       "      <td>2021</td>\n",
       "      <td>2.1</td>\n",
       "    </tr>\n",
       "    <tr>\n",
       "      <th>5399</th>\n",
       "      <td>6473</td>\n",
       "      <td>Judbury, Australia</td>\n",
       "      <td>Judbury</td>\n",
       "      <td>Australia</td>\n",
       "      <td>2021</td>\n",
       "      <td>2.0</td>\n",
       "    </tr>\n",
       "    <tr>\n",
       "      <th>5400</th>\n",
       "      <td>6474</td>\n",
       "      <td>St Helens, Australia</td>\n",
       "      <td>St Helens</td>\n",
       "      <td>Australia</td>\n",
       "      <td>2021</td>\n",
       "      <td>1.9</td>\n",
       "    </tr>\n",
       "    <tr>\n",
       "      <th>5401</th>\n",
       "      <td>6475</td>\n",
       "      <td>Chu, Kazakhstan</td>\n",
       "      <td>Chu</td>\n",
       "      <td>Kazakhstan</td>\n",
       "      <td>2021</td>\n",
       "      <td>1.5</td>\n",
       "    </tr>\n",
       "  </tbody>\n",
       "</table>\n",
       "</div>"
      ],
      "text/plain": [
       "      Rank                   City   City_Name     Country  Time  AQI\n",
       "5397  6471  Mornington, Australia  Mornington   Australia  2021  2.4\n",
       "5398  6472   Emu River, Australia   Emu River   Australia  2021  2.1\n",
       "5399  6473     Judbury, Australia     Judbury   Australia  2021  2.0\n",
       "5400  6474   St Helens, Australia   St Helens   Australia  2021  1.9\n",
       "5401  6475        Chu, Kazakhstan         Chu  Kazakhstan  2021  1.5"
      ]
     },
     "execution_count": 55,
     "metadata": {},
     "output_type": "execute_result"
    }
   ],
   "source": [
    "aqi_df.tail()"
   ]
  },
  {
   "cell_type": "markdown",
   "metadata": {},
   "source": [
    "### Second dataframe (Census population)"
   ]
  },
  {
   "cell_type": "markdown",
   "metadata": {},
   "source": [
    "### Quality Issue 1: Invalid Rows and Column Misalignment"
   ]
  },
  {
   "cell_type": "code",
   "execution_count": 56,
   "metadata": {
    "scrolled": true
   },
   "outputs": [],
   "source": [
    "# Drop first 4 rows and last 6 rows\n",
    "census_df = census_df.iloc[3:-6].copy()"
   ]
  },
  {
   "cell_type": "code",
   "execution_count": 57,
   "metadata": {},
   "outputs": [],
   "source": [
    "# Reset index\n",
    "census_df.reset_index(drop=True, inplace=True)"
   ]
  },
  {
   "cell_type": "code",
   "execution_count": 58,
   "metadata": {},
   "outputs": [],
   "source": [
    "# Assign proper headers\n",
    "census_df.columns = [\n",
    "    \"Rank\",\n",
    "    \"Geographic Area\",\n",
    "    \"April 1, Estimates Base\",\n",
    "    \"2020\",\n",
    "    \"2021\",\n",
    "    \"2022\",\n",
    "    \"2023\",\n",
    "    \"2024\"\n",
    "]"
   ]
  },
  {
   "cell_type": "code",
   "execution_count": 59,
   "metadata": {},
   "outputs": [
    {
     "data": {
      "text/html": [
       "<div>\n",
       "<style scoped>\n",
       "    .dataframe tbody tr th:only-of-type {\n",
       "        vertical-align: middle;\n",
       "    }\n",
       "\n",
       "    .dataframe tbody tr th {\n",
       "        vertical-align: top;\n",
       "    }\n",
       "\n",
       "    .dataframe thead th {\n",
       "        text-align: right;\n",
       "    }\n",
       "</style>\n",
       "<table border=\"1\" class=\"dataframe\">\n",
       "  <thead>\n",
       "    <tr style=\"text-align: right;\">\n",
       "      <th></th>\n",
       "      <th>Rank</th>\n",
       "      <th>Geographic Area</th>\n",
       "      <th>April 1, Estimates Base</th>\n",
       "      <th>2020</th>\n",
       "      <th>2021</th>\n",
       "      <th>2022</th>\n",
       "      <th>2023</th>\n",
       "      <th>2024</th>\n",
       "    </tr>\n",
       "  </thead>\n",
       "  <tbody>\n",
       "    <tr>\n",
       "      <th>0</th>\n",
       "      <td>1</td>\n",
       "      <td>New York city, New York</td>\n",
       "      <td>8805594</td>\n",
       "      <td>8740306</td>\n",
       "      <td>8453772.0</td>\n",
       "      <td>8356179.0</td>\n",
       "      <td>8390888.0</td>\n",
       "      <td>8478072.0</td>\n",
       "    </tr>\n",
       "    <tr>\n",
       "      <th>1</th>\n",
       "      <td>2</td>\n",
       "      <td>Los Angeles city, California</td>\n",
       "      <td>3899449</td>\n",
       "      <td>3896329</td>\n",
       "      <td>3830987.0</td>\n",
       "      <td>3832998.0</td>\n",
       "      <td>3847428.0</td>\n",
       "      <td>3878704.0</td>\n",
       "    </tr>\n",
       "    <tr>\n",
       "      <th>2</th>\n",
       "      <td>3</td>\n",
       "      <td>Chicago city, Illinois</td>\n",
       "      <td>2748331</td>\n",
       "      <td>2745196</td>\n",
       "      <td>2706324.0</td>\n",
       "      <td>2684076.0</td>\n",
       "      <td>2699144.0</td>\n",
       "      <td>2721308.0</td>\n",
       "    </tr>\n",
       "    <tr>\n",
       "      <th>3</th>\n",
       "      <td>4</td>\n",
       "      <td>Houston city, Texas</td>\n",
       "      <td>2300351</td>\n",
       "      <td>2298945</td>\n",
       "      <td>2291070.0</td>\n",
       "      <td>2314258.0</td>\n",
       "      <td>2346908.0</td>\n",
       "      <td>2390125.0</td>\n",
       "    </tr>\n",
       "    <tr>\n",
       "      <th>4</th>\n",
       "      <td>5</td>\n",
       "      <td>Phoenix city, Arizona</td>\n",
       "      <td>1608415</td>\n",
       "      <td>1612593</td>\n",
       "      <td>1625132.0</td>\n",
       "      <td>1644798.0</td>\n",
       "      <td>1656231.0</td>\n",
       "      <td>1673164.0</td>\n",
       "    </tr>\n",
       "  </tbody>\n",
       "</table>\n",
       "</div>"
      ],
      "text/plain": [
       "  Rank               Geographic Area April 1, Estimates Base     2020  \\\n",
       "0    1       New York city, New York                 8805594  8740306   \n",
       "1    2  Los Angeles city, California                 3899449  3896329   \n",
       "2    3        Chicago city, Illinois                 2748331  2745196   \n",
       "3    4           Houston city, Texas                 2300351  2298945   \n",
       "4    5         Phoenix city, Arizona                 1608415  1612593   \n",
       "\n",
       "        2021       2022       2023       2024  \n",
       "0  8453772.0  8356179.0  8390888.0  8478072.0  \n",
       "1  3830987.0  3832998.0  3847428.0  3878704.0  \n",
       "2  2706324.0  2684076.0  2699144.0  2721308.0  \n",
       "3  2291070.0  2314258.0  2346908.0  2390125.0  \n",
       "4  1625132.0  1644798.0  1656231.0  1673164.0  "
      ]
     },
     "execution_count": 59,
     "metadata": {},
     "output_type": "execute_result"
    }
   ],
   "source": [
    "census_df.head()"
   ]
  },
  {
   "cell_type": "markdown",
   "metadata": {},
   "source": [
    "**Justification**: \n",
    "\n",
    "Removing the first 4 rows gets rid of meta-text that was incorrectly parsed as data (e.g., descriptive notes).\n",
    "\n",
    "Removing the last 6 rows eliminates extra notes and citations.\n",
    "\n",
    "Explicitly resetting headers ensures clean, consistent variable names for further processing."
   ]
  },
  {
   "cell_type": "markdown",
   "metadata": {},
   "source": [
    "### Quality Issue 2: Missing Values"
   ]
  },
  {
   "cell_type": "code",
   "execution_count": 60,
   "metadata": {
    "scrolled": true
   },
   "outputs": [
    {
     "data": {
      "text/plain": [
       "Rank                       0\n",
       "Geographic Area            0\n",
       "April 1, Estimates Base    0\n",
       "2020                       0\n",
       "2021                       0\n",
       "2022                       0\n",
       "2023                       0\n",
       "2024                       0\n",
       "dtype: int64"
      ]
     },
     "execution_count": 60,
     "metadata": {},
     "output_type": "execute_result"
    }
   ],
   "source": [
    "census_df.isnull().sum()"
   ]
  },
  {
   "cell_type": "markdown",
   "metadata": {},
   "source": [
    "**Justification**:\n",
    "\n",
    "Normally, we would have used census_clean = census_clean.dropna(how=\"all\") to remove rows filled entirely with NaN. However, since the earlier data quality issue was fixed, those NaNs are now confined to non-data rows, and the problem resolves itself automatically."
   ]
  },
  {
   "cell_type": "markdown",
   "metadata": {},
   "source": [
    "### Tidiness Issue 1:"
   ]
  },
  {
   "cell_type": "code",
   "execution_count": 61,
   "metadata": {},
   "outputs": [],
   "source": [
    "# Split the \"Geographic Area\" column into two columns: City_Name and State\n",
    "census_df[[\"City_Name\", \"State\"]] = census_df[\"Geographic Area\"].str.split(\",\", n=1, expand=True)"
   ]
  },
  {
   "cell_type": "code",
   "execution_count": 62,
   "metadata": {},
   "outputs": [],
   "source": [
    "# Remove extra spaces\n",
    "census_df[\"City_Name\"] = census_df[\"City_Name\"].str.strip()\n",
    "census_df[\"State\"] = census_df[\"State\"].str.strip()"
   ]
  },
  {
   "cell_type": "code",
   "execution_count": 63,
   "metadata": {},
   "outputs": [
    {
     "data": {
      "text/html": [
       "<div>\n",
       "<style scoped>\n",
       "    .dataframe tbody tr th:only-of-type {\n",
       "        vertical-align: middle;\n",
       "    }\n",
       "\n",
       "    .dataframe tbody tr th {\n",
       "        vertical-align: top;\n",
       "    }\n",
       "\n",
       "    .dataframe thead th {\n",
       "        text-align: right;\n",
       "    }\n",
       "</style>\n",
       "<table border=\"1\" class=\"dataframe\">\n",
       "  <thead>\n",
       "    <tr style=\"text-align: right;\">\n",
       "      <th></th>\n",
       "      <th>Geographic Area</th>\n",
       "      <th>City_Name</th>\n",
       "      <th>State</th>\n",
       "    </tr>\n",
       "  </thead>\n",
       "  <tbody>\n",
       "    <tr>\n",
       "      <th>0</th>\n",
       "      <td>New York city, New York</td>\n",
       "      <td>New York city</td>\n",
       "      <td>New York</td>\n",
       "    </tr>\n",
       "    <tr>\n",
       "      <th>1</th>\n",
       "      <td>Los Angeles city, California</td>\n",
       "      <td>Los Angeles city</td>\n",
       "      <td>California</td>\n",
       "    </tr>\n",
       "    <tr>\n",
       "      <th>2</th>\n",
       "      <td>Chicago city, Illinois</td>\n",
       "      <td>Chicago city</td>\n",
       "      <td>Illinois</td>\n",
       "    </tr>\n",
       "    <tr>\n",
       "      <th>3</th>\n",
       "      <td>Houston city, Texas</td>\n",
       "      <td>Houston city</td>\n",
       "      <td>Texas</td>\n",
       "    </tr>\n",
       "    <tr>\n",
       "      <th>4</th>\n",
       "      <td>Phoenix city, Arizona</td>\n",
       "      <td>Phoenix city</td>\n",
       "      <td>Arizona</td>\n",
       "    </tr>\n",
       "    <tr>\n",
       "      <th>5</th>\n",
       "      <td>Philadelphia city, Pennsylvania</td>\n",
       "      <td>Philadelphia city</td>\n",
       "      <td>Pennsylvania</td>\n",
       "    </tr>\n",
       "    <tr>\n",
       "      <th>6</th>\n",
       "      <td>San Antonio city, Texas</td>\n",
       "      <td>San Antonio city</td>\n",
       "      <td>Texas</td>\n",
       "    </tr>\n",
       "    <tr>\n",
       "      <th>7</th>\n",
       "      <td>San Diego city, California</td>\n",
       "      <td>San Diego city</td>\n",
       "      <td>California</td>\n",
       "    </tr>\n",
       "    <tr>\n",
       "      <th>8</th>\n",
       "      <td>Dallas city, Texas</td>\n",
       "      <td>Dallas city</td>\n",
       "      <td>Texas</td>\n",
       "    </tr>\n",
       "    <tr>\n",
       "      <th>9</th>\n",
       "      <td>Jacksonville city, Florida</td>\n",
       "      <td>Jacksonville city</td>\n",
       "      <td>Florida</td>\n",
       "    </tr>\n",
       "  </tbody>\n",
       "</table>\n",
       "</div>"
      ],
      "text/plain": [
       "                   Geographic Area          City_Name         State\n",
       "0          New York city, New York      New York city      New York\n",
       "1     Los Angeles city, California   Los Angeles city    California\n",
       "2           Chicago city, Illinois       Chicago city      Illinois\n",
       "3              Houston city, Texas       Houston city         Texas\n",
       "4            Phoenix city, Arizona       Phoenix city       Arizona\n",
       "5  Philadelphia city, Pennsylvania  Philadelphia city  Pennsylvania\n",
       "6          San Antonio city, Texas   San Antonio city         Texas\n",
       "7       San Diego city, California     San Diego city    California\n",
       "8               Dallas city, Texas        Dallas city         Texas\n",
       "9       Jacksonville city, Florida  Jacksonville city       Florida"
      ]
     },
     "execution_count": 63,
     "metadata": {},
     "output_type": "execute_result"
    }
   ],
   "source": [
    "# Validate\n",
    "census_df[[\"Geographic Area\", \"City_Name\", \"State\"]].head(10)"
   ]
  },
  {
   "cell_type": "markdown",
   "metadata": {},
   "source": [
    "**Justification**: \n",
    "\n",
    "This fixes the tidiness issue because each variable (city and state) now has its own dedicated column.\n",
    "\n",
    "Stripping whitespace ensures consistent formatting.\n",
    "\n",
    "Validation checks confirm that state names were correctly separated and cities remain intact"
   ]
  },
  {
   "cell_type": "markdown",
   "metadata": {},
   "source": [
    "### Tidiness Issue 2: "
   ]
  },
  {
   "cell_type": "code",
   "execution_count": 64,
   "metadata": {},
   "outputs": [],
   "source": [
    "# Melt the wide format (2020–2024 columns) into a long format\n",
    "census_df = census_df.melt(\n",
    "    id_vars=[\"Rank\", \"Geographic Area\", \"City_Name\", \"State\", \"April 1, Estimates Base\"],\n",
    "    value_vars=[\"2020\", \"2021\", \"2022\", \"2023\", \"2024\"],\n",
    "    var_name=\"Year\",\n",
    "    value_name=\"Population\"\n",
    ")"
   ]
  },
  {
   "cell_type": "code",
   "execution_count": 65,
   "metadata": {},
   "outputs": [],
   "source": [
    "# Convert Year to int for consistency\n",
    "census_df[\"Year\"] = census_df[\"Year\"].astype(int)"
   ]
  },
  {
   "cell_type": "code",
   "execution_count": 66,
   "metadata": {},
   "outputs": [],
   "source": [
    "# Convert Population to numeric\n",
    "census_df[\"Population\"] = pd.to_numeric(census_df[\"Population\"], errors=\"coerce\")"
   ]
  },
  {
   "cell_type": "code",
   "execution_count": 67,
   "metadata": {},
   "outputs": [
    {
     "data": {
      "text/html": [
       "<div>\n",
       "<style scoped>\n",
       "    .dataframe tbody tr th:only-of-type {\n",
       "        vertical-align: middle;\n",
       "    }\n",
       "\n",
       "    .dataframe tbody tr th {\n",
       "        vertical-align: top;\n",
       "    }\n",
       "\n",
       "    .dataframe thead th {\n",
       "        text-align: right;\n",
       "    }\n",
       "</style>\n",
       "<table border=\"1\" class=\"dataframe\">\n",
       "  <thead>\n",
       "    <tr style=\"text-align: right;\">\n",
       "      <th></th>\n",
       "      <th>Rank</th>\n",
       "      <th>Geographic Area</th>\n",
       "      <th>City_Name</th>\n",
       "      <th>State</th>\n",
       "      <th>April 1, Estimates Base</th>\n",
       "      <th>Year</th>\n",
       "      <th>Population</th>\n",
       "    </tr>\n",
       "  </thead>\n",
       "  <tbody>\n",
       "    <tr>\n",
       "      <th>0</th>\n",
       "      <td>1</td>\n",
       "      <td>New York city, New York</td>\n",
       "      <td>New York city</td>\n",
       "      <td>New York</td>\n",
       "      <td>8805594</td>\n",
       "      <td>2020</td>\n",
       "      <td>8740306</td>\n",
       "    </tr>\n",
       "    <tr>\n",
       "      <th>1</th>\n",
       "      <td>2</td>\n",
       "      <td>Los Angeles city, California</td>\n",
       "      <td>Los Angeles city</td>\n",
       "      <td>California</td>\n",
       "      <td>3899449</td>\n",
       "      <td>2020</td>\n",
       "      <td>3896329</td>\n",
       "    </tr>\n",
       "    <tr>\n",
       "      <th>2</th>\n",
       "      <td>3</td>\n",
       "      <td>Chicago city, Illinois</td>\n",
       "      <td>Chicago city</td>\n",
       "      <td>Illinois</td>\n",
       "      <td>2748331</td>\n",
       "      <td>2020</td>\n",
       "      <td>2745196</td>\n",
       "    </tr>\n",
       "    <tr>\n",
       "      <th>3</th>\n",
       "      <td>4</td>\n",
       "      <td>Houston city, Texas</td>\n",
       "      <td>Houston city</td>\n",
       "      <td>Texas</td>\n",
       "      <td>2300351</td>\n",
       "      <td>2020</td>\n",
       "      <td>2298945</td>\n",
       "    </tr>\n",
       "    <tr>\n",
       "      <th>4</th>\n",
       "      <td>5</td>\n",
       "      <td>Phoenix city, Arizona</td>\n",
       "      <td>Phoenix city</td>\n",
       "      <td>Arizona</td>\n",
       "      <td>1608415</td>\n",
       "      <td>2020</td>\n",
       "      <td>1612593</td>\n",
       "    </tr>\n",
       "  </tbody>\n",
       "</table>\n",
       "</div>"
      ],
      "text/plain": [
       "  Rank               Geographic Area         City_Name       State  \\\n",
       "0    1       New York city, New York     New York city    New York   \n",
       "1    2  Los Angeles city, California  Los Angeles city  California   \n",
       "2    3        Chicago city, Illinois      Chicago city    Illinois   \n",
       "3    4           Houston city, Texas      Houston city       Texas   \n",
       "4    5         Phoenix city, Arizona      Phoenix city     Arizona   \n",
       "\n",
       "  April 1, Estimates Base  Year  Population  \n",
       "0                 8805594  2020     8740306  \n",
       "1                 3899449  2020     3896329  \n",
       "2                 2748331  2020     2745196  \n",
       "3                 2300351  2020     2298945  \n",
       "4                 1608415  2020     1612593  "
      ]
     },
     "execution_count": 67,
     "metadata": {},
     "output_type": "execute_result"
    }
   ],
   "source": [
    "# Validate\n",
    "census_df.head()"
   ]
  },
  {
   "cell_type": "code",
   "execution_count": 68,
   "metadata": {},
   "outputs": [
    {
     "data": {
      "text/html": [
       "<div>\n",
       "<style scoped>\n",
       "    .dataframe tbody tr th:only-of-type {\n",
       "        vertical-align: middle;\n",
       "    }\n",
       "\n",
       "    .dataframe tbody tr th {\n",
       "        vertical-align: top;\n",
       "    }\n",
       "\n",
       "    .dataframe thead th {\n",
       "        text-align: right;\n",
       "    }\n",
       "</style>\n",
       "<table border=\"1\" class=\"dataframe\">\n",
       "  <thead>\n",
       "    <tr style=\"text-align: right;\">\n",
       "      <th></th>\n",
       "      <th>Rank</th>\n",
       "      <th>Geographic Area</th>\n",
       "      <th>City_Name</th>\n",
       "      <th>State</th>\n",
       "      <th>April 1, Estimates Base</th>\n",
       "      <th>Year</th>\n",
       "      <th>Population</th>\n",
       "    </tr>\n",
       "  </thead>\n",
       "  <tbody>\n",
       "    <tr>\n",
       "      <th>9670</th>\n",
       "      <td>1931</td>\n",
       "      <td>La Cañada Flintridge city, California</td>\n",
       "      <td>La Cañada Flintridge city</td>\n",
       "      <td>California</td>\n",
       "      <td>20574</td>\n",
       "      <td>2024</td>\n",
       "      <td>19621</td>\n",
       "    </tr>\n",
       "    <tr>\n",
       "      <th>9671</th>\n",
       "      <td>1932</td>\n",
       "      <td>Albany city, California</td>\n",
       "      <td>Albany city</td>\n",
       "      <td>California</td>\n",
       "      <td>20270</td>\n",
       "      <td>2024</td>\n",
       "      <td>19439</td>\n",
       "    </tr>\n",
       "    <tr>\n",
       "      <th>9672</th>\n",
       "      <td>1933</td>\n",
       "      <td>Agoura Hills city, California</td>\n",
       "      <td>Agoura Hills city</td>\n",
       "      <td>California</td>\n",
       "      <td>20296</td>\n",
       "      <td>2024</td>\n",
       "      <td>19429</td>\n",
       "    </tr>\n",
       "    <tr>\n",
       "      <th>9673</th>\n",
       "      <td>1933</td>\n",
       "      <td>Plainview city, Texas</td>\n",
       "      <td>Plainview city</td>\n",
       "      <td>Texas</td>\n",
       "      <td>20169</td>\n",
       "      <td>2024</td>\n",
       "      <td>19429</td>\n",
       "    </tr>\n",
       "    <tr>\n",
       "      <th>9674</th>\n",
       "      <td>1935</td>\n",
       "      <td>Coronado city, California</td>\n",
       "      <td>Coronado city</td>\n",
       "      <td>California</td>\n",
       "      <td>20199</td>\n",
       "      <td>2024</td>\n",
       "      <td>18031</td>\n",
       "    </tr>\n",
       "  </tbody>\n",
       "</table>\n",
       "</div>"
      ],
      "text/plain": [
       "      Rank                        Geographic Area                  City_Name  \\\n",
       "9670  1931  La Cañada Flintridge city, California  La Cañada Flintridge city   \n",
       "9671  1932                Albany city, California                Albany city   \n",
       "9672  1933          Agoura Hills city, California          Agoura Hills city   \n",
       "9673  1933                  Plainview city, Texas             Plainview city   \n",
       "9674  1935              Coronado city, California              Coronado city   \n",
       "\n",
       "           State April 1, Estimates Base  Year  Population  \n",
       "9670  California                   20574  2024       19621  \n",
       "9671  California                   20270  2024       19439  \n",
       "9672  California                   20296  2024       19429  \n",
       "9673       Texas                   20169  2024       19429  \n",
       "9674  California                   20199  2024       18031  "
      ]
     },
     "execution_count": 68,
     "metadata": {},
     "output_type": "execute_result"
    }
   ],
   "source": [
    "census_df.tail()"
   ]
  },
  {
   "cell_type": "code",
   "execution_count": 69,
   "metadata": {},
   "outputs": [
    {
     "data": {
      "text/plain": [
       "Rank                       object\n",
       "Geographic Area            object\n",
       "City_Name                  object\n",
       "State                      object\n",
       "April 1, Estimates Base    object\n",
       "Year                        int64\n",
       "Population                  int64\n",
       "dtype: object"
      ]
     },
     "execution_count": 69,
     "metadata": {},
     "output_type": "execute_result"
    }
   ],
   "source": [
    "# Validate the datatypes\n",
    "census_df.dtypes"
   ]
  },
  {
   "cell_type": "markdown",
   "metadata": {},
   "source": [
    "**Justification**: \n",
    "\n",
    "Original format violated tidiness (years in separate columns).\n",
    "\n",
    "Melting creates a single Year column and a Population column, aligning with tidy data principles.\n",
    "\n",
    "Converting Year to int and Population to numeric ensures consistency for analysis and merging."
   ]
  },
  {
   "cell_type": "markdown",
   "metadata": {},
   "source": [
    "**In addition**:\n",
    "\n",
    "Census data is available from 2020–2024, but for consistency with AQI we focus on 2021 only.\n",
    "\n",
    "Dropping other years ensures both datasets cover the same time period, enabling a fair merge and analysis."
   ]
  },
  {
   "cell_type": "code",
   "execution_count": 70,
   "metadata": {},
   "outputs": [],
   "source": [
    "# Keep only rows where Year == 2021\n",
    "census_df = census_df[census_df[\"Year\"] == 2021].copy()"
   ]
  },
  {
   "cell_type": "code",
   "execution_count": 71,
   "metadata": {},
   "outputs": [],
   "source": [
    "# Reset index\n",
    "census_df.reset_index(drop=True, inplace=True)"
   ]
  },
  {
   "cell_type": "code",
   "execution_count": 72,
   "metadata": {
    "scrolled": true
   },
   "outputs": [
    {
     "data": {
      "text/html": [
       "<div>\n",
       "<style scoped>\n",
       "    .dataframe tbody tr th:only-of-type {\n",
       "        vertical-align: middle;\n",
       "    }\n",
       "\n",
       "    .dataframe tbody tr th {\n",
       "        vertical-align: top;\n",
       "    }\n",
       "\n",
       "    .dataframe thead th {\n",
       "        text-align: right;\n",
       "    }\n",
       "</style>\n",
       "<table border=\"1\" class=\"dataframe\">\n",
       "  <thead>\n",
       "    <tr style=\"text-align: right;\">\n",
       "      <th></th>\n",
       "      <th>Rank</th>\n",
       "      <th>Geographic Area</th>\n",
       "      <th>City_Name</th>\n",
       "      <th>State</th>\n",
       "      <th>April 1, Estimates Base</th>\n",
       "      <th>Year</th>\n",
       "      <th>Population</th>\n",
       "    </tr>\n",
       "  </thead>\n",
       "  <tbody>\n",
       "    <tr>\n",
       "      <th>0</th>\n",
       "      <td>1</td>\n",
       "      <td>New York city, New York</td>\n",
       "      <td>New York city</td>\n",
       "      <td>New York</td>\n",
       "      <td>8805594</td>\n",
       "      <td>2021</td>\n",
       "      <td>8453772</td>\n",
       "    </tr>\n",
       "    <tr>\n",
       "      <th>1</th>\n",
       "      <td>2</td>\n",
       "      <td>Los Angeles city, California</td>\n",
       "      <td>Los Angeles city</td>\n",
       "      <td>California</td>\n",
       "      <td>3899449</td>\n",
       "      <td>2021</td>\n",
       "      <td>3830987</td>\n",
       "    </tr>\n",
       "    <tr>\n",
       "      <th>2</th>\n",
       "      <td>3</td>\n",
       "      <td>Chicago city, Illinois</td>\n",
       "      <td>Chicago city</td>\n",
       "      <td>Illinois</td>\n",
       "      <td>2748331</td>\n",
       "      <td>2021</td>\n",
       "      <td>2706324</td>\n",
       "    </tr>\n",
       "    <tr>\n",
       "      <th>3</th>\n",
       "      <td>4</td>\n",
       "      <td>Houston city, Texas</td>\n",
       "      <td>Houston city</td>\n",
       "      <td>Texas</td>\n",
       "      <td>2300351</td>\n",
       "      <td>2021</td>\n",
       "      <td>2291070</td>\n",
       "    </tr>\n",
       "    <tr>\n",
       "      <th>4</th>\n",
       "      <td>5</td>\n",
       "      <td>Phoenix city, Arizona</td>\n",
       "      <td>Phoenix city</td>\n",
       "      <td>Arizona</td>\n",
       "      <td>1608415</td>\n",
       "      <td>2021</td>\n",
       "      <td>1625132</td>\n",
       "    </tr>\n",
       "  </tbody>\n",
       "</table>\n",
       "</div>"
      ],
      "text/plain": [
       "  Rank               Geographic Area         City_Name       State  \\\n",
       "0    1       New York city, New York     New York city    New York   \n",
       "1    2  Los Angeles city, California  Los Angeles city  California   \n",
       "2    3        Chicago city, Illinois      Chicago city    Illinois   \n",
       "3    4           Houston city, Texas      Houston city       Texas   \n",
       "4    5         Phoenix city, Arizona      Phoenix city     Arizona   \n",
       "\n",
       "  April 1, Estimates Base  Year  Population  \n",
       "0                 8805594  2021     8453772  \n",
       "1                 3899449  2021     3830987  \n",
       "2                 2748331  2021     2706324  \n",
       "3                 2300351  2021     2291070  \n",
       "4                 1608415  2021     1625132  "
      ]
     },
     "execution_count": 72,
     "metadata": {},
     "output_type": "execute_result"
    }
   ],
   "source": [
    "# Validate\n",
    "census_df.head()"
   ]
  },
  {
   "cell_type": "code",
   "execution_count": 73,
   "metadata": {},
   "outputs": [
    {
     "data": {
      "text/html": [
       "<div>\n",
       "<style scoped>\n",
       "    .dataframe tbody tr th:only-of-type {\n",
       "        vertical-align: middle;\n",
       "    }\n",
       "\n",
       "    .dataframe tbody tr th {\n",
       "        vertical-align: top;\n",
       "    }\n",
       "\n",
       "    .dataframe thead th {\n",
       "        text-align: right;\n",
       "    }\n",
       "</style>\n",
       "<table border=\"1\" class=\"dataframe\">\n",
       "  <thead>\n",
       "    <tr style=\"text-align: right;\">\n",
       "      <th></th>\n",
       "      <th>Rank</th>\n",
       "      <th>Geographic Area</th>\n",
       "      <th>City_Name</th>\n",
       "      <th>State</th>\n",
       "      <th>April 1, Estimates Base</th>\n",
       "      <th>Year</th>\n",
       "      <th>Population</th>\n",
       "    </tr>\n",
       "  </thead>\n",
       "  <tbody>\n",
       "    <tr>\n",
       "      <th>1930</th>\n",
       "      <td>1931</td>\n",
       "      <td>La Cañada Flintridge city, California</td>\n",
       "      <td>La Cañada Flintridge city</td>\n",
       "      <td>California</td>\n",
       "      <td>20574</td>\n",
       "      <td>2021</td>\n",
       "      <td>20054</td>\n",
       "    </tr>\n",
       "    <tr>\n",
       "      <th>1931</th>\n",
       "      <td>1932</td>\n",
       "      <td>Albany city, California</td>\n",
       "      <td>Albany city</td>\n",
       "      <td>California</td>\n",
       "      <td>20270</td>\n",
       "      <td>2021</td>\n",
       "      <td>18920</td>\n",
       "    </tr>\n",
       "    <tr>\n",
       "      <th>1932</th>\n",
       "      <td>1933</td>\n",
       "      <td>Agoura Hills city, California</td>\n",
       "      <td>Agoura Hills city</td>\n",
       "      <td>California</td>\n",
       "      <td>20296</td>\n",
       "      <td>2021</td>\n",
       "      <td>19800</td>\n",
       "    </tr>\n",
       "    <tr>\n",
       "      <th>1933</th>\n",
       "      <td>1933</td>\n",
       "      <td>Plainview city, Texas</td>\n",
       "      <td>Plainview city</td>\n",
       "      <td>Texas</td>\n",
       "      <td>20169</td>\n",
       "      <td>2021</td>\n",
       "      <td>19885</td>\n",
       "    </tr>\n",
       "    <tr>\n",
       "      <th>1934</th>\n",
       "      <td>1935</td>\n",
       "      <td>Coronado city, California</td>\n",
       "      <td>Coronado city</td>\n",
       "      <td>California</td>\n",
       "      <td>20199</td>\n",
       "      <td>2021</td>\n",
       "      <td>19257</td>\n",
       "    </tr>\n",
       "  </tbody>\n",
       "</table>\n",
       "</div>"
      ],
      "text/plain": [
       "      Rank                        Geographic Area                  City_Name  \\\n",
       "1930  1931  La Cañada Flintridge city, California  La Cañada Flintridge city   \n",
       "1931  1932                Albany city, California                Albany city   \n",
       "1932  1933          Agoura Hills city, California          Agoura Hills city   \n",
       "1933  1933                  Plainview city, Texas             Plainview city   \n",
       "1934  1935              Coronado city, California              Coronado city   \n",
       "\n",
       "           State April 1, Estimates Base  Year  Population  \n",
       "1930  California                   20574  2021       20054  \n",
       "1931  California                   20270  2021       18920  \n",
       "1932  California                   20296  2021       19800  \n",
       "1933       Texas                   20169  2021       19885  \n",
       "1934  California                   20199  2021       19257  "
      ]
     },
     "execution_count": 73,
     "metadata": {},
     "output_type": "execute_result"
    }
   ],
   "source": [
    "census_df.tail()"
   ]
  },
  {
   "cell_type": "markdown",
   "metadata": {},
   "source": [
    "### **Remove unnecessary variables and combine datasets**\n",
    "\n",
    "Depending on the datasets, you can also peform the combination before the cleaning steps."
   ]
  },
  {
   "cell_type": "code",
   "execution_count": 74,
   "metadata": {},
   "outputs": [],
   "source": [
    "# Keep only relevant columns in census_df\n",
    "census_df = census_df[[\"City_Name\", \"State\", \"Population\"]]"
   ]
  },
  {
   "cell_type": "code",
   "execution_count": 75,
   "metadata": {},
   "outputs": [],
   "source": [
    "# Keep only relevant columns in aqi_df\n",
    "aqi_df = aqi_df[[\"City_Name\", \"AQI\"]]"
   ]
  },
  {
   "cell_type": "code",
   "execution_count": 76,
   "metadata": {},
   "outputs": [],
   "source": [
    "# Define a cleaning function\n",
    "def clean_city_name(name):\n",
    "    name = name.strip().lower()              # lowercase and strip\n",
    "    name = re.sub(r\"\\bcity\\b\", \"\", name)     # remove standalone word 'city'\n",
    "    name = re.sub(r\"\\s+\", \" \", name)         # remove extra spaces after removing 'city'\n",
    "    return name.strip()\n"
   ]
  },
  {
   "cell_type": "code",
   "execution_count": 77,
   "metadata": {},
   "outputs": [],
   "source": [
    "# Apply to both dataframes\n",
    "aqi_df[\"City_Name\"] = aqi_df[\"City_Name\"].apply(clean_city_name)\n",
    "census_df[\"City_Name\"] = census_df[\"City_Name\"].apply(clean_city_name)"
   ]
  },
  {
   "cell_type": "code",
   "execution_count": 78,
   "metadata": {},
   "outputs": [],
   "source": [
    "# Merge\n",
    "merged_df = pd.merge(aqi_df, census_df, on=\"City_Name\", how=\"inner\")"
   ]
  },
  {
   "cell_type": "code",
   "execution_count": 79,
   "metadata": {},
   "outputs": [],
   "source": [
    "merged_df = merged_df[[\"City_Name\", \"State\", \"Population\", \"AQI\"]]"
   ]
  },
  {
   "cell_type": "code",
   "execution_count": 80,
   "metadata": {
    "scrolled": false
   },
   "outputs": [
    {
     "data": {
      "text/html": [
       "<div>\n",
       "<style scoped>\n",
       "    .dataframe tbody tr th:only-of-type {\n",
       "        vertical-align: middle;\n",
       "    }\n",
       "\n",
       "    .dataframe tbody tr th {\n",
       "        vertical-align: top;\n",
       "    }\n",
       "\n",
       "    .dataframe thead th {\n",
       "        text-align: right;\n",
       "    }\n",
       "</style>\n",
       "<table border=\"1\" class=\"dataframe\">\n",
       "  <thead>\n",
       "    <tr style=\"text-align: right;\">\n",
       "      <th></th>\n",
       "      <th>City_Name</th>\n",
       "      <th>State</th>\n",
       "      <th>Population</th>\n",
       "      <th>AQI</th>\n",
       "    </tr>\n",
       "  </thead>\n",
       "  <tbody>\n",
       "    <tr>\n",
       "      <th>0</th>\n",
       "      <td>lima</td>\n",
       "      <td>Ohio</td>\n",
       "      <td>35262</td>\n",
       "      <td>31.5</td>\n",
       "    </tr>\n",
       "    <tr>\n",
       "      <th>1</th>\n",
       "      <td>chester</td>\n",
       "      <td>Pennsylvania</td>\n",
       "      <td>33693</td>\n",
       "      <td>30.2</td>\n",
       "    </tr>\n",
       "    <tr>\n",
       "      <th>2</th>\n",
       "      <td>lewiston</td>\n",
       "      <td>Maine</td>\n",
       "      <td>38379</td>\n",
       "      <td>25.0</td>\n",
       "    </tr>\n",
       "    <tr>\n",
       "      <th>3</th>\n",
       "      <td>lewiston</td>\n",
       "      <td>Idaho</td>\n",
       "      <td>34512</td>\n",
       "      <td>25.0</td>\n",
       "    </tr>\n",
       "    <tr>\n",
       "      <th>4</th>\n",
       "      <td>south lake tahoe</td>\n",
       "      <td>California</td>\n",
       "      <td>21441</td>\n",
       "      <td>23.5</td>\n",
       "    </tr>\n",
       "  </tbody>\n",
       "</table>\n",
       "</div>"
      ],
      "text/plain": [
       "          City_Name         State  Population   AQI\n",
       "0              lima          Ohio       35262  31.5\n",
       "1           chester  Pennsylvania       33693  30.2\n",
       "2          lewiston         Maine       38379  25.0\n",
       "3          lewiston         Idaho       34512  25.0\n",
       "4  south lake tahoe    California       21441  23.5"
      ]
     },
     "execution_count": 80,
     "metadata": {},
     "output_type": "execute_result"
    }
   ],
   "source": [
    "merged_df.head()"
   ]
  },
  {
   "cell_type": "code",
   "execution_count": 81,
   "metadata": {
    "scrolled": true
   },
   "outputs": [
    {
     "data": {
      "text/html": [
       "<div>\n",
       "<style scoped>\n",
       "    .dataframe tbody tr th:only-of-type {\n",
       "        vertical-align: middle;\n",
       "    }\n",
       "\n",
       "    .dataframe tbody tr th {\n",
       "        vertical-align: top;\n",
       "    }\n",
       "\n",
       "    .dataframe thead th {\n",
       "        text-align: right;\n",
       "    }\n",
       "</style>\n",
       "<table border=\"1\" class=\"dataframe\">\n",
       "  <thead>\n",
       "    <tr style=\"text-align: right;\">\n",
       "      <th></th>\n",
       "      <th>City_Name</th>\n",
       "      <th>State</th>\n",
       "      <th>Population</th>\n",
       "      <th>AQI</th>\n",
       "    </tr>\n",
       "  </thead>\n",
       "  <tbody>\n",
       "    <tr>\n",
       "      <th>1279</th>\n",
       "      <td>florence</td>\n",
       "      <td>Alabama</td>\n",
       "      <td>41054</td>\n",
       "      <td>3.8</td>\n",
       "    </tr>\n",
       "    <tr>\n",
       "      <th>1280</th>\n",
       "      <td>florence</td>\n",
       "      <td>South Carolina</td>\n",
       "      <td>40119</td>\n",
       "      <td>3.8</td>\n",
       "    </tr>\n",
       "    <tr>\n",
       "      <th>1281</th>\n",
       "      <td>florence</td>\n",
       "      <td>Kentucky</td>\n",
       "      <td>32296</td>\n",
       "      <td>3.8</td>\n",
       "    </tr>\n",
       "    <tr>\n",
       "      <th>1282</th>\n",
       "      <td>hobart</td>\n",
       "      <td>Indiana</td>\n",
       "      <td>29594</td>\n",
       "      <td>3.0</td>\n",
       "    </tr>\n",
       "    <tr>\n",
       "      <th>1283</th>\n",
       "      <td>derby</td>\n",
       "      <td>Kansas</td>\n",
       "      <td>25776</td>\n",
       "      <td>2.6</td>\n",
       "    </tr>\n",
       "  </tbody>\n",
       "</table>\n",
       "</div>"
      ],
      "text/plain": [
       "     City_Name           State  Population  AQI\n",
       "1279  florence         Alabama       41054  3.8\n",
       "1280  florence  South Carolina       40119  3.8\n",
       "1281  florence        Kentucky       32296  3.8\n",
       "1282    hobart         Indiana       29594  3.0\n",
       "1283     derby          Kansas       25776  2.6"
      ]
     },
     "execution_count": 81,
     "metadata": {},
     "output_type": "execute_result"
    }
   ],
   "source": [
    "merged_df.tail()"
   ]
  },
  {
   "cell_type": "markdown",
   "metadata": {},
   "source": [
    "To ensure accurate merging between both datasets (aqi_df and census_df), we standardized the City_Name variable by applying several cleaning steps:\n",
    "\n",
    "Converted all city names to lowercase to remove case sensitivity.\n",
    "\n",
    "Removed any leading or trailing spaces.\n",
    "\n",
    "Eliminated the word \"city\" when it appeared in names (e.g., \"Carson City\" became \"carson\") to avoid mismatches due to naming inconsistencies.\n",
    "\n",
    "Normalized spacing to avoid duplicates caused by double spaces or inconsistent formatting.\n",
    "\n",
    "These cleaning steps significantly increased the number of matches during the merge process, from only 1 match initially to 1250 successfully merged city entries.\n",
    "\n",
    "Also, in the merged dataset, we observe that certain city names, such as “Florence,” appear multiple times. These refer to different states (e.g., Alabama, South Carolina, Kentucky) and have distinct population values, confirming they are separate cities rather than duplicates.\n",
    "\n",
    "However, these cities share the exact same AQI value, which is highly unlikely. This may indicate limitations or inaccuracies in the AQI data.\n",
    "\n",
    "It's also worth noting that the merge was performed using only city names, as the AQI dataset does not include state-level information. This constraint may have introduced ambiguity in the matching process."
   ]
  },
  {
   "cell_type": "markdown",
   "metadata": {
    "id": "F42urHuzttjF"
   },
   "source": [
    "## 4. Update your data store\n",
    "Update your local database/data store with the cleaned data, following best practices for storing your cleaned data:\n",
    "\n",
    "- Must maintain different instances / versions of data (raw and cleaned data)\n",
    "- Must name the dataset files informatively\n",
    "- Ensure both the raw and cleaned data is saved to your database/data store"
   ]
  },
  {
   "cell_type": "code",
   "execution_count": 82,
   "metadata": {
    "id": "V3uay7EJUV_L"
   },
   "outputs": [],
   "source": [
    "# Air Quality Index dataframe\n",
    "aqi_df_raw = aqi_df_copy\n",
    "aqi_df_cleaned = aqi_df"
   ]
  },
  {
   "cell_type": "code",
   "execution_count": 83,
   "metadata": {},
   "outputs": [],
   "source": [
    "# US census dataframe\n",
    "census_df_raw = census_df_copy\n",
    "census_df_cleaned = census_df"
   ]
  },
  {
   "cell_type": "code",
   "execution_count": 84,
   "metadata": {},
   "outputs": [],
   "source": [
    "# Merged dataframe\n",
    "final_df = merged_df"
   ]
  },
  {
   "cell_type": "markdown",
   "metadata": {
    "id": "cGy_yddGtzhM"
   },
   "source": [
    "## 5. Answer the research question\n",
    "\n",
    "### **5.1:** Define and answer the research question \n",
    "Going back to the problem statement in step 1, use the cleaned data to answer the question you raised. Produce **at least** two visualizations using the cleaned data and explain how they help you answer the question."
   ]
  },
  {
   "cell_type": "markdown",
   "metadata": {
    "id": "gjedE4s4ZkEd"
   },
   "source": [
    "*Research question:* Is there a relationship between the population size of a city and its Air Quality Index (AQI)?"
   ]
  },
  {
   "cell_type": "code",
   "execution_count": 85,
   "metadata": {
    "id": "Lkw3rW9kZmOm"
   },
   "outputs": [
    {
     "data": {
      "text/plain": [
       "<Axes: title={'center': 'Relationship Between Population and Air Quality Index (AQI)'}, xlabel='Population', ylabel='Air Quality Index (AQI)'>"
      ]
     },
     "execution_count": 85,
     "metadata": {},
     "output_type": "execute_result"
    },
    {
     "data": {
      "image/png": "[encoded data removed]",
      "text/plain": [
       "<Figure size 1000x600 with 1 Axes>"
      ]
     },
     "metadata": {},
     "output_type": "display_data"
    }
   ],
   "source": [
    "merged_df.plot(\n",
    "    kind='scatter',\n",
    "    x='Population',\n",
    "    y='AQI',\n",
    "    title='Relationship Between Population and Air Quality Index (AQI)',\n",
    "    xlabel='Population',\n",
    "    ylabel='Air Quality Index (AQI)',\n",
    "    figsize=(10, 6),\n",
    "    grid=True\n",
    ")"
   ]
  },
  {
   "cell_type": "markdown",
   "metadata": {},
   "source": [
    "*Answer to research question:* At first glance, we observe that some cities with large populations (toward the middle and right side of the chart) do not necessarily exhibit high AQI values. Even the city at the far right, which appears to be an outlier in terms of population, still falls within a moderate AQI range. This suggests that a high population does not directly imply poor air quality.\n",
    "\n",
    "On the left side of the plot, representing smaller cities, AQI values vary significantly, from very low to relatively high. This wide distribution indicates that even among cities with low population counts, air quality can differ substantially.\n",
    "\n",
    "Overall, the plot does not reveal a clear or strong relationship between population size and AQI. The variation in AQI across both small and large cities suggests that population alone is not a primary driver of air quality differences in this dataset. Other factors are likely at play."
   ]
  },
  {
   "cell_type": "code",
   "execution_count": 86,
   "metadata": {
    "id": "6fdK_8ZGZm9R"
   },
   "outputs": [
    {
     "data": {
      "text/plain": [
       "<Axes: title={'center': 'AQI'}, xlabel='State'>"
      ]
     },
     "execution_count": 86,
     "metadata": {},
     "output_type": "execute_result"
    },
    {
     "data": {
      "image/png": "[encoded data removed]",
      "text/plain": [
       "<Figure size 1400x600 with 1 Axes>"
      ]
     },
     "metadata": {},
     "output_type": "display_data"
    }
   ],
   "source": [
    "# Boxplot AQI par État\n",
    "merged_df.boxplot(\n",
    "    column='AQI',\n",
    "    by='State',\n",
    "    figsize=(14, 6),\n",
    "    grid=False,\n",
    "    rot=45\n",
    ")"
   ]
  },
  {
   "cell_type": "markdown",
   "metadata": {
    "id": "K5RgvMGUZoHn"
   },
   "source": [
    "*Answer to research question:* To complement the city-level analysis, we also examined AQI variability at the state level. The boxplot reveals that some states show broad distributions of AQI, while others remain more uniform. For example, New York, despite having large and dense cities like New York City, shows a relatively moderate AQI range, whereas a less populated state like Montana has higher AQI values in some of its cities. This reinforces the idea that population alone is not a sufficient predictor of air quality, and that other environmental or industrial factors must be considered."
   ]
  },
  {
   "cell_type": "markdown",
   "metadata": {
    "id": "0ezWXXZVj-TP"
   },
   "source": [
    "### **5.2:** Reflection\n",
    "In 2-4 sentences, if you had more time to complete the project, what actions would you take? For example, which data quality and structural issues would you look into further, and what research questions would you further explore?"
   ]
  },
  {
   "cell_type": "markdown",
   "metadata": {
    "id": "XB3RBDG5kFe1"
   },
   "source": [
    "*Answer:* Initially, choosing U.S. cities seemed like a good choice, as it reduced global variability, but we found that most cities had AQI levels in the \"good\" category. This limited the analysis to comparing \"how good\" the air was, rather than identifying highly polluted areas. If I had more time, I would try including cities from other countries to introduce more contrast in air quality. I'd also resolve the issue of cities with the same name having the same AQI, which likely introduced duplicates or inaccuracies. This structural would be worth fixing for a more precise analysis."
   ]
  }
 ],
 "metadata": {
  "colab": {
   "provenance": []
  },
  "kernelspec": {
   "display_name": "Python 3 (ipykernel)",
   "language": "python",
   "name": "python3"
  },
  "language_info": {
   "codemirror_mode": {
    "name": "ipython",
    "version": 3
   },
   "file_extension": ".py",
   "mimetype": "text/x-python",
   "name": "python",
   "nbconvert_exporter": "python",
   "pygments_lexer": "ipython3",
   "version": "3.10.11"
  }
 },
 "nbformat": 4,
 "nbformat_minor": 1
}
